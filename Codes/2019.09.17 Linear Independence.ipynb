{
 "cells": [
  {
   "cell_type": "code",
   "execution_count": 1,
   "metadata": {},
   "outputs": [],
   "source": [
    "import numpy as np\n",
    "# np.random.seed(42)"
   ]
  },
  {
   "cell_type": "code",
   "execution_count": 2,
   "metadata": {},
   "outputs": [],
   "source": [
    "class rankMatrix(object):\n",
    "    \"\"\"\n",
    "    Calculate rank of matrix\n",
    "    \"\"\"\n",
    "    \n",
    "    def __init__(self, Matrix): \n",
    "        self.R = len(Matrix) \n",
    "        self.C = len(Matrix[0]) \n",
    "          \n",
    "    # Function for exchanging two rows of a matrix \n",
    "    def swap(self, Matrix, row1, row2, col): \n",
    "        for i in range(col): \n",
    "            temp = Matrix[row1][i] \n",
    "            Matrix[row1][i] = Matrix[row2][i] \n",
    "            Matrix[row2][i] = temp \n",
    "              \n",
    "    # Function to Display a matrix \n",
    "    def Display(self, Matrix, row, col): \n",
    "        for i in range(row): \n",
    "            for j in range(col): \n",
    "                print (\" \" + str(Matrix[i][j])) \n",
    "            print ('\\n') \n",
    "              \n",
    "    # Find rank of a matrix \n",
    "    def rankOfMatrix(self, Matrix): \n",
    "        rank = self.C \n",
    "        for row in range(0, rank, 1): \n",
    "              \n",
    "            # Before we visit current row  \n",
    "            # 'row', we make sure that  \n",
    "            # mat[row][0],....mat[row][row-1]  \n",
    "            # are 0.  \n",
    "      \n",
    "            # Diagonal element is not zero \n",
    "            if Matrix[row][row] != 0: \n",
    "                for col in range(0, self.R, 1): \n",
    "                    if col != row: \n",
    "                          \n",
    "                        # This makes all entries of current  \n",
    "                        # column as 0 except entry 'mat[row][row]'  \n",
    "                        multiplier = (Matrix[col][row] /\n",
    "                                      Matrix[row][row]) \n",
    "                        for i in range(rank): \n",
    "                            Matrix[col][i] -= (multiplier *\n",
    "                                               Matrix[row][i]) \n",
    "                                                  \n",
    "            # Diagonal element is already zero.  \n",
    "            # Two cases arise:  \n",
    "            # 1) If there is a row below it  \n",
    "            # with non-zero entry, then swap  \n",
    "            # this row with that row and process  \n",
    "            # that row  \n",
    "            # 2) If all elements in current  \n",
    "            # column below mat[r][row] are 0,  \n",
    "            # then remvoe this column by  \n",
    "            # swapping it with last column and  \n",
    "            # reducing number of columns by 1.  \n",
    "            else: \n",
    "                reduce = True\n",
    "                  \n",
    "                # Find the non-zero element  \n",
    "                # in current column  \n",
    "                for i in range(row + 1, self.R, 1): \n",
    "                      \n",
    "                    # Swap the row with non-zero  \n",
    "                    # element with this row. \n",
    "                    if Matrix[i][row] != 0: \n",
    "                        self.swap(Matrix, row, i, rank) \n",
    "                        reduce = False\n",
    "                        break\n",
    "                          \n",
    "                # If we did not find any row with  \n",
    "                # non-zero element in current  \n",
    "                # columnm, then all values in  \n",
    "                # this column are 0. \n",
    "                if reduce: \n",
    "                      \n",
    "                    # Reduce number of columns  \n",
    "                    rank -= 1\n",
    "                      \n",
    "                    # copy the last column here \n",
    "                    for i in range(0, self.R, 1): \n",
    "                        Matrix[i][row] = Matrix[i][rank] \n",
    "                          \n",
    "                # process this row again \n",
    "                row -= 1\n",
    "                  \n",
    "        # self.Display(Matrix, self.R,self.C)  \n",
    "        return (rank)"
   ]
  },
  {
   "cell_type": "code",
   "execution_count": 3,
   "metadata": {},
   "outputs": [],
   "source": [
    "def generate_vectors(vector_count, dim = 3, range_from = 1, range_to = 100):\n",
    "    \"\"\"\n",
    "    Generate random vectors in specified dimension\n",
    "    \n",
    "    Parameters: \n",
    "        vector_count (int): count of vectors\n",
    "        dim (int): dimension of vectors, by default it is 3\n",
    "        range_from (int): start range for random interval\n",
    "        range_to (int): end range for random interval\n",
    "    Returns:\n",
    "        list\n",
    "    \"\"\"\n",
    "    matrix = []\n",
    "    for i in range(vector_count):\n",
    "        matrix.append(np.random.randint(range_from, range_to, dim))\n",
    "        \n",
    "#     return np.column_stack(matrix)\n",
    "    return matrix"
   ]
  },
  {
   "cell_type": "code",
   "execution_count": 4,
   "metadata": {},
   "outputs": [],
   "source": [
    "def check_independence(matrix):\n",
    "    \"\"\"\n",
    "    Check vectors dependency/ independency\n",
    "    \n",
    "    Parameters:\n",
    "        matrix(list) - list of vectors\n",
    "        \n",
    "    Returns:\n",
    "        boolean - True if independent, False otherwise\n",
    "    \"\"\"\n",
    "    matrix = np.column_stack(matrix)\n",
    "    RankMatrix = rankMatrix(matrix)\n",
    "    rank = RankMatrix.rankOfMatrix(matrix)\n",
    "#     rank = np.linalg.matrix_rank(matrix)\n",
    "    vector_count = matrix.shape[1]\n",
    "    if vector_count == rank:\n",
    "        print('Linearly Independent')\n",
    "        return True\n",
    "    else:\n",
    "        print('Linearly Dependent')\n",
    "        return False"
   ]
  },
  {
   "cell_type": "code",
   "execution_count": 5,
   "metadata": {},
   "outputs": [
    {
     "name": "stdout",
     "output_type": "stream",
     "text": [
      "[[2 2 2]\n",
      " [1 1 1]\n",
      " [1 1 2]\n",
      " [1 1 2]]\n",
      "Linearly Dependent\n"
     ]
    },
    {
     "data": {
      "text/plain": [
       "False"
      ]
     },
     "execution_count": 5,
     "metadata": {},
     "output_type": "execute_result"
    }
   ],
   "source": [
    "matrix = generate_vectors(3 , 4, 1, 3)\n",
    "print(np.column_stack(matrix))\n",
    "check_independence(matrix)"
   ]
  },
  {
   "cell_type": "markdown",
   "metadata": {},
   "source": [
    " "
   ]
  },
  {
   "cell_type": "markdown",
   "metadata": {},
   "source": [
    " "
   ]
  },
  {
   "cell_type": "markdown",
   "metadata": {},
   "source": [
    " "
   ]
  },
  {
   "cell_type": "markdown",
   "metadata": {},
   "source": [
    " "
   ]
  }
 ],
 "metadata": {
  "kernelspec": {
   "display_name": "Python 3",
   "language": "python",
   "name": "python3"
  },
  "language_info": {
   "codemirror_mode": {
    "name": "ipython",
    "version": 3
   },
   "file_extension": ".py",
   "mimetype": "text/x-python",
   "name": "python",
   "nbconvert_exporter": "python",
   "pygments_lexer": "ipython3",
   "version": "3.7.3"
  }
 },
 "nbformat": 4,
 "nbformat_minor": 2
}
