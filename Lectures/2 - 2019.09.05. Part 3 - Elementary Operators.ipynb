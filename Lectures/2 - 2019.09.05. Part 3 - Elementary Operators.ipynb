{
 "cells": [
  {
   "cell_type": "markdown",
   "metadata": {},
   "source": [
    "# <div align=\"center\">Elementary Operators</div>\n",
    "---------------------------------------------------------------------\n",
    "\n",
    "you can Find me on Github:\n",
    "> ###### [ GitHub](https://github.com/lev1khachatryan)"
   ]
  },
  {
   "cell_type": "markdown",
   "metadata": {},
   "source": [
    " "
   ]
  },
  {
   "cell_type": "markdown",
   "metadata": {},
   "source": [
    "# Shift. \n",
    "\n",
    "A sequence x[n], shifted by an integer k is ***y[n] = x[n−k]***\n",
    "\n",
    "If k is positive, the signal is shifted “to the right”, meaning that the signal has\n",
    "been ***delayed***; if k is negative, the signal is shifted “to the left”, meaning\n",
    "that the signal has been ***advanced***. The delay operator can be indicated by\n",
    "the following notation:\n",
    "\n",
    "$D_{k}\\{x[n]\\} = x[n −k]$\n"
   ]
  },
  {
   "cell_type": "markdown",
   "metadata": {},
   "source": [
    " "
   ]
  },
  {
   "cell_type": "markdown",
   "metadata": {},
   "source": [
    "# Scaling.\n",
    "\n",
    "A sequence x[n] scaled by a factor α ∈ C (complex numbers) is ***y[n] = αx[n]***; If α is real, then the scaling represents a simple ***amplification or attenuation***\n",
    "of the signal (when α > 1 and α < 1, respectively). If α is complex, amplification and attenuation are compounded with a ***phase shift***.\n"
   ]
  },
  {
   "cell_type": "markdown",
   "metadata": {},
   "source": [
    " "
   ]
  },
  {
   "cell_type": "markdown",
   "metadata": {},
   "source": [
    "# Sum.\n",
    "\n",
    "The sum of two sequences x[n] and w[n] is their term-by-term sum. ***y[n] = x[n] + w[n]***; Please note that ***sum and scaling are linear operators***. Informally, this means\n",
    "scaling and sum behave “intuitively”:\n",
    "\n",
    "α(x[n] + w [n]) = αx[n] + αw [n]\n",
    "\n"
   ]
  },
  {
   "cell_type": "markdown",
   "metadata": {},
   "source": [
    " "
   ]
  },
  {
   "cell_type": "markdown",
   "metadata": {},
   "source": [
    "# Product.\n",
    "\n",
    "The product of two sequences x[n] and w[n] is their term-byterm product $y [n] = x[n]w [n]$"
   ]
  },
  {
   "cell_type": "markdown",
   "metadata": {},
   "source": [
    " "
   ]
  },
  {
   "cell_type": "markdown",
   "metadata": {},
   "source": [
    "# Integration.\n",
    "\n",
    "The discrete-time equivalent of integration is expressed by\n",
    "the following running sum:\n",
    "\n",
    "<img src='assets/20190905 03/1.png'>\n",
    "\n",
    "Intuitively, integration computes a non-normalized running average of the\n",
    "discrete-time signal."
   ]
  },
  {
   "cell_type": "markdown",
   "metadata": {},
   "source": [
    " "
   ]
  },
  {
   "cell_type": "markdown",
   "metadata": {},
   "source": [
    "# Differentiation\n",
    "\n",
    "A discrete-time approximation to differentiation is the firstorder difference: ***y[n] = x[n]−x[n −1]***"
   ]
  },
  {
   "cell_type": "markdown",
   "metadata": {},
   "source": [
    " "
   ]
  },
  {
   "cell_type": "markdown",
   "metadata": {},
   "source": [
    " "
   ]
  },
  {
   "cell_type": "markdown",
   "metadata": {},
   "source": [
    " "
   ]
  },
  {
   "cell_type": "markdown",
   "metadata": {},
   "source": [
    " "
   ]
  },
  {
   "cell_type": "markdown",
   "metadata": {},
   "source": [
    " "
   ]
  }
 ],
 "metadata": {
  "kernelspec": {
   "display_name": "Python 3",
   "language": "python",
   "name": "python3"
  },
  "language_info": {
   "codemirror_mode": {
    "name": "ipython",
    "version": 3
   },
   "file_extension": ".py",
   "mimetype": "text/x-python",
   "name": "python",
   "nbconvert_exporter": "python",
   "pygments_lexer": "ipython3",
   "version": "3.7.3"
  }
 },
 "nbformat": 4,
 "nbformat_minor": 2
}
