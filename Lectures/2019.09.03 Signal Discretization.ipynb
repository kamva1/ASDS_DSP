{
 "cells": [
  {
   "cell_type": "markdown",
   "metadata": {},
   "source": [
    "# <div align=\"center\">Analogue to Digital Signal Conversion</div>\n",
    "---------------------------------------------------------------------\n",
    "\n",
    "you can Find me on Github:\n",
    "> ###### [ GitHub](https://github.com/lev1khachatryan)"
   ]
  },
  {
   "cell_type": "markdown",
   "metadata": {},
   "source": [
    "Physical signals are usually defined in continuous time, but signal processing is done more efficiently digitally and for discrete-time signals. A continuous-time signal $x_{c}(t)$ is specified by an (uncountable) infinite number of signal values in\n",
    "every interval, whereas a discrete-time signal $x_{d}(nT_{s})$ consists of only one signal value in each sampling interval.\n"
   ]
  },
  {
   "cell_type": "markdown",
   "metadata": {},
   "source": [
    "Considering the advantages of a digital representation of information, used by the PC to process and store information, and that the sensor generates an analogue representation, the question is ***how to convert an analogue signal captured by the sensor into a digital signal***, to be processed by the PC. To understand the process of conversion it is necessary to known how signals are classified. ***Signals are classified, according to its amplitude and time variation***, as shown in figure 1.1. A digital signal has only a discrete number of possible amplitudes. Computer circuits only consider the digital signal defined in equal space time instants. Thus the ***digital signal is a discrete-time and discrete-amplitude signal***. On the other hand, the analogue signal is defined has having an amplitude for each time instant, thus being time-continuous. The most common signals captured by sensors are defined for all amplitudes, thus being amplitude-continuous."
   ]
  },
  {
   "cell_type": "markdown",
   "metadata": {},
   "source": [
    " "
   ]
  },
  {
   "cell_type": "markdown",
   "metadata": {},
   "source": [
    "<img src='assets/20190903/1.gif'>\n",
    "<div align=\"center\">Figure 1.1: Signal classification.</div>"
   ]
  },
  {
   "cell_type": "markdown",
   "metadata": {},
   "source": [
    " "
   ]
  },
  {
   "cell_type": "markdown",
   "metadata": {},
   "source": [
    "Then the conversion of a typical analogue signal into a digital signal implies two operations:\n",
    "\n",
    "* To go from a time continuous signal to a discrete time signal - the time discretization;\n",
    "\n",
    "\n",
    "* To go from an amplitude continuous signal to an amplitude discrete signal - the amplitude discretization."
   ]
  },
  {
   "cell_type": "markdown",
   "metadata": {},
   "source": [
    " "
   ]
  },
  {
   "cell_type": "markdown",
   "metadata": {},
   "source": [
    "A ***system*** is an entity that processes signals. Systems can have from zero to several inputs an from zero to several outputs. If the ***system*** processes only analogue signals, then the system is said to be ***analogue***. If the ***signals are digital***, then the system is said to be ***digital***. Systems that process ***both types of signals are mixed signal systems.***"
   ]
  },
  {
   "cell_type": "markdown",
   "metadata": {},
   "source": [
    " "
   ]
  },
  {
   "cell_type": "markdown",
   "metadata": {},
   "source": [
    "<img src='assets/20190903/2.gif'>\n",
    "<div align=\"center\">Figure 1.2: Analogue to digital signal conversion.</div>"
   ]
  },
  {
   "cell_type": "markdown",
   "metadata": {},
   "source": [
    " "
   ]
  },
  {
   "cell_type": "markdown",
   "metadata": {},
   "source": [
    "The analogue signal time-discretization is made by sampling the signal in equal time intervals. These samples have continuous-amplitudes. The amplitude discretization is made by the approximation of these samples to a discrete number of levels, in an operation called ***quantising***. To each level a code of bits is attributed. Thus the number of levels depends on the number of bits used for the code. This process is depicted in figure 1.2."
   ]
  },
  {
   "cell_type": "markdown",
   "metadata": {},
   "source": [
    " "
   ]
  },
  {
   "cell_type": "markdown",
   "metadata": {},
   "source": [
    "Two questions arise concerning the accuracy of the analogue-digital signal conversion process:\n",
    "\n",
    "* Are we not loosing information, just by taking some samples? How many samples should it be taken?\n",
    "\n",
    "\n",
    "* The second question is related to the second operation -–the sample amplitude approximation to a level of quantisation, does it have any influence on the accuracy of the results processed by the computer?"
   ]
  },
  {
   "cell_type": "markdown",
   "metadata": {},
   "source": [
    " "
   ]
  },
  {
   "cell_type": "markdown",
   "metadata": {},
   "source": [
    "Let’s consider each question separately. The higher the number of samples per second, the best the emulation of the original signal, but this higher frequency demands more sophisticated circuit architectures, for signal processing and storing. Nevertheless, it is intuitively understandable that a signal that has little changes in amplitude doesn’t require many samples. However a signal with fast changes in amplitude, should be sampled in smaller time intervals. What is then the minimum number of samples? In the beginning of the twentieth century, an engineer reaches a conclusion: ***it is possible to recover a signal that has been sampled at rate of at least twice the maximum frequency of that signal***. This engineer is ***Nyquist***, and the latter text is the ***Sampling Theorem.***"
   ]
  },
  {
   "cell_type": "markdown",
   "metadata": {},
   "source": [
    " "
   ]
  },
  {
   "cell_type": "markdown",
   "metadata": {},
   "source": [
    "Consider the example of a sinusoidal signal, of unit amplitude and 1 Hz of frequency given by:"
   ]
  },
  {
   "cell_type": "markdown",
   "metadata": {},
   "source": [
    " "
   ]
  },
  {
   "cell_type": "markdown",
   "metadata": {},
   "source": [
    "<img src='assets/20190903/3.gif'>\n",
    "  \n",
    "<img src='assets/20190903/4.gif'>\n",
    "<div align=\"center\">Figure 1.3: Sinusoidal signal.</div>"
   ]
  },
  {
   "cell_type": "markdown",
   "metadata": {},
   "source": [
    " "
   ]
  },
  {
   "cell_type": "markdown",
   "metadata": {},
   "source": [
    "This sinusoidal signal, by the Sampling Theorem should be sampled at 2 Hz, which means that there should be taken, at least two samples per second. In figure 1.3, the sinusoidal signal is sampled at 4 Hz, that is, four samples are taken in each second. ***If the number of samples is smaller then the Nyquist rate, an aliasing phenomenon occurs.***\n",
    "\n",
    "Concerning the ***amplitude-discretization*** operation, it can be stated that an ***approximation error is made when each amplitude sample is set to the amplitude level. This error is named quantizing error, and is unavoidable.*** However, it can be minimised by the usage of a higher number of levels, which, diminishes the size of the step. Nevertheless, this implies a higher number of bits for the code. Today’s computers use over 24 to 32 bits for data representation. For the 24-bit case, 224 levels are defined, corresponding to over 16 millions of discrete amplitudes. The approximation error is smaller then 0,00001 (considering one-Volt voltage reference)."
   ]
  },
  {
   "cell_type": "markdown",
   "metadata": {},
   "source": [
    " "
   ]
  },
  {
   "cell_type": "markdown",
   "metadata": {},
   "source": [
    " "
   ]
  },
  {
   "cell_type": "markdown",
   "metadata": {},
   "source": [
    " "
   ]
  },
  {
   "cell_type": "markdown",
   "metadata": {},
   "source": [
    "---------------------------------------------------------------------\n",
    "## <div align=\"center\">A little bit of maths</div>\n",
    "---------------------------------------------------------------------"
   ]
  },
  {
   "cell_type": "markdown",
   "metadata": {},
   "source": [
    "## Continuous Fourier Transform"
   ]
  },
  {
   "cell_type": "markdown",
   "metadata": {},
   "source": [
    " "
   ]
  },
  {
   "cell_type": "markdown",
   "metadata": {},
   "source": [
    "By Fourier theory, ***any waveform can be represented by a summation of a (possibly infinite) number of sinusoids, each with a particular amplitude and phase. Such a representation is referred to as the signal's spectrum*** (or it's frequency-domain representation). It is often easier to analyze signals and signal networks in terms of their spectral representations. As well, there are many instances where it is easier to synthesize a signal using a frequency-domain approach."
   ]
  },
  {
   "cell_type": "markdown",
   "metadata": {},
   "source": [
    " "
   ]
  },
  {
   "cell_type": "markdown",
   "metadata": {},
   "source": [
    " "
   ]
  },
  {
   "cell_type": "markdown",
   "metadata": {},
   "source": [
    "### Definition and notation"
   ]
  },
  {
   "cell_type": "markdown",
   "metadata": {},
   "source": [
    " "
   ]
  },
  {
   "cell_type": "markdown",
   "metadata": {},
   "source": [
    "The Fourier transform pair in the most general form for a continuous and aperiodic time signal $x(t)$ is:"
   ]
  },
  {
   "cell_type": "markdown",
   "metadata": {},
   "source": [
    " "
   ]
  },
  {
   "cell_type": "markdown",
   "metadata": {},
   "source": [
    "<img src='assets/20190903/25.png'>"
   ]
  },
  {
   "cell_type": "markdown",
   "metadata": {},
   "source": [
    " "
   ]
  },
  {
   "cell_type": "markdown",
   "metadata": {},
   "source": [
    "The spectrum $X(j\\omega)$ is expressed as a function of $j\\omega$ because the spectrum can be treated as the Laplace transform of the signal $X(s)$ evaluated along the imaginary axis ($\\sigma=0$):"
   ]
  },
  {
   "cell_type": "markdown",
   "metadata": {},
   "source": [
    " "
   ]
  },
  {
   "cell_type": "markdown",
   "metadata": {},
   "source": [
    "<img src='assets/20190903/26.png'>"
   ]
  },
  {
   "cell_type": "markdown",
   "metadata": {},
   "source": [
    " "
   ]
  },
  {
   "cell_type": "markdown",
   "metadata": {},
   "source": [
    "As this notation is closely related to the system analysis concepts such as Laplace transform and transfer function $H(s)$, it is preferred in the field of system design and control. However, in practice, it is more convenient to represent the frequency of a signal by $f=\\omega/2\\pi$ in cycles/ second or Hertz (Hz, KHz, MHz, GHz, etc.), instead of $\\omega$ in radians/second. Replacing $\\omega$ by $2\\pi f$, we can also express the spectrum as $X(j2\\pi f)$ or simply $X(f)$ in this alternative representation: "
   ]
  },
  {
   "cell_type": "markdown",
   "metadata": {},
   "source": [
    " "
   ]
  },
  {
   "cell_type": "markdown",
   "metadata": {},
   "source": [
    "<img src='assets/20190903/27.png'>"
   ]
  },
  {
   "cell_type": "markdown",
   "metadata": {},
   "source": [
    " "
   ]
  },
  {
   "cell_type": "markdown",
   "metadata": {},
   "source": [
    "Here the forward and inverse Fourier transform are in perfect symmetry with only a different sign for the exponent, therefore the duality of Fourier transform between time and frequency domain is better illustrated. As this notation closely relates the signal representations in both time and frequency domains, it is preferred in the field of signal processing. For convenience, the alternative representation of Fourier transform will be used in the following discussion."
   ]
  },
  {
   "cell_type": "markdown",
   "metadata": {},
   "source": [
    " "
   ]
  },
  {
   "cell_type": "markdown",
   "metadata": {},
   "source": [
    " "
   ]
  },
  {
   "cell_type": "markdown",
   "metadata": {},
   "source": [
    "### Physical Meaning of Fourier Transform"
   ]
  },
  {
   "cell_type": "markdown",
   "metadata": {},
   "source": [
    " "
   ]
  },
  {
   "cell_type": "markdown",
   "metadata": {},
   "source": [
    "The time signal squared $x^2(t)$ represents how the energy contained in the signal distributes over time $t$, while its spectrum squared $X^2(f)$ represents how the energy distributes over frequency (therefore the term power density spectrum). Obviously, the same amount of energy is contained in either time or frequency domain, as indicated by ***Parseval's formula:*** "
   ]
  },
  {
   "cell_type": "markdown",
   "metadata": {},
   "source": [
    " "
   ]
  },
  {
   "cell_type": "markdown",
   "metadata": {},
   "source": [
    "<img src='assets/20190903/28.png'>"
   ]
  },
  {
   "cell_type": "markdown",
   "metadata": {},
   "source": [
    " "
   ]
  },
  {
   "cell_type": "markdown",
   "metadata": {},
   "source": [
    "The complex spectrum $X(f)$ of a time signal $x(t)$ can be written in polar form "
   ]
  },
  {
   "cell_type": "markdown",
   "metadata": {},
   "source": [
    " "
   ]
  },
  {
   "cell_type": "markdown",
   "metadata": {},
   "source": [
    "<img src='assets/20190903/29.png'>"
   ]
  },
  {
   "cell_type": "markdown",
   "metadata": {},
   "source": [
    " "
   ]
  },
  {
   "cell_type": "markdown",
   "metadata": {},
   "source": [
    "and the inverse transform becomes: "
   ]
  },
  {
   "cell_type": "markdown",
   "metadata": {},
   "source": [
    " "
   ]
  },
  {
   "cell_type": "markdown",
   "metadata": {},
   "source": [
    "<img src='assets/20190903/30.png'>"
   ]
  },
  {
   "cell_type": "markdown",
   "metadata": {},
   "source": [
    " "
   ]
  },
  {
   "cell_type": "markdown",
   "metadata": {},
   "source": [
    "which is a weighted linear combination (integration) of infinite sinusoids with:\n",
    "<img src='assets/20190903/31.png'>\n",
    "<img src='assets/20190903/32.png'>\n",
    "<img src='assets/20190903/33.png'>"
   ]
  },
  {
   "cell_type": "markdown",
   "metadata": {},
   "source": [
    " "
   ]
  },
  {
   "cell_type": "markdown",
   "metadata": {},
   "source": [
    " "
   ]
  },
  {
   "cell_type": "markdown",
   "metadata": {},
   "source": [
    "### Spectrum of Real Signals"
   ]
  },
  {
   "cell_type": "markdown",
   "metadata": {},
   "source": [
    " "
   ]
  },
  {
   "cell_type": "markdown",
   "metadata": {},
   "source": [
    "Fourier transform is a complex transform. But all physical signals (temperature, voltage, pressure, etc.) $x(t)$ are real "
   ]
  },
  {
   "cell_type": "markdown",
   "metadata": {},
   "source": [
    " "
   ]
  },
  {
   "cell_type": "markdown",
   "metadata": {},
   "source": [
    "<img src='assets/20190903/34.png'>"
   ]
  },
  {
   "cell_type": "markdown",
   "metadata": {},
   "source": [
    " "
   ]
  },
  {
   "cell_type": "markdown",
   "metadata": {},
   "source": [
    "and its spectrum $X(f)$ is conjugate symmetric"
   ]
  },
  {
   "cell_type": "markdown",
   "metadata": {},
   "source": [
    " "
   ]
  },
  {
   "cell_type": "markdown",
   "metadata": {},
   "source": [
    "<img src='assets/20190903/35.png'>"
   ]
  },
  {
   "cell_type": "markdown",
   "metadata": {},
   "source": [
    " "
   ]
  },
  {
   "cell_type": "markdown",
   "metadata": {},
   "source": [
    "i.e., the real part of $X(f)$ is even $X_r(f)=X_r(-f)$, and the imaginary part odd $X_i(-f)=-X_i(-f)$."
   ]
  },
  {
   "cell_type": "markdown",
   "metadata": {},
   "source": [
    " "
   ]
  },
  {
   "cell_type": "markdown",
   "metadata": {},
   "source": [
    " "
   ]
  },
  {
   "cell_type": "markdown",
   "metadata": {},
   "source": [
    " "
   ]
  },
  {
   "cell_type": "markdown",
   "metadata": {},
   "source": [
    " "
   ]
  },
  {
   "cell_type": "markdown",
   "metadata": {},
   "source": [
    "### Time Sampling"
   ]
  },
  {
   "cell_type": "markdown",
   "metadata": {},
   "source": [
    " "
   ]
  },
  {
   "cell_type": "markdown",
   "metadata": {},
   "source": [
    "As a computer can only process discrete values, the continuous signal $x(t)$ needs to be sampled by a comb function $p(t)$: "
   ]
  },
  {
   "cell_type": "markdown",
   "metadata": {},
   "source": [
    " "
   ]
  },
  {
   "cell_type": "markdown",
   "metadata": {},
   "source": [
    "<img src='assets/20190903/5.png'>"
   ]
  },
  {
   "cell_type": "markdown",
   "metadata": {},
   "source": [
    " "
   ]
  },
  {
   "cell_type": "markdown",
   "metadata": {},
   "source": [
    "where $x[m]=x(mt_0)$ is the mth sample, $t_0$ is the interval between two consecutive samples $x[m]$ and $x[m+1]$, and $F=1/t_0$ is the sampling rate. The spectrum of the sampled signal $x_p(t)$ can be found to be:"
   ]
  },
  {
   "cell_type": "markdown",
   "metadata": {},
   "source": [
    " "
   ]
  },
  {
   "cell_type": "markdown",
   "metadata": {},
   "source": [
    "<img src='assets/20190903/6.png'>"
   ]
  },
  {
   "cell_type": "markdown",
   "metadata": {},
   "source": [
    " "
   ]
  },
  {
   "cell_type": "markdown",
   "metadata": {},
   "source": [
    "***This equation is the discrete time Fourier transform.*** The period of $X_p(f)$ is the sampling rate $F=1/t_0$, or equivalently the period of $X_p(j\\omega)$ is  $\\Omega=2\\pi F=2\\pi/t_0$. In particular, if we define  $\\hat{\\omega}=\\omega t_0=\\omega/F$ or $\\hat{f}=f t_0=f/F$ (or simply assume  $t_0=1$), we get the alternative expression of discrete time Fourier transform of frequency $\\hat{f}$ with period 1: "
   ]
  },
  {
   "cell_type": "markdown",
   "metadata": {},
   "source": [
    " "
   ]
  },
  {
   "cell_type": "markdown",
   "metadata": {},
   "source": [
    "<img src='assets/20190903/7.png'>"
   ]
  },
  {
   "cell_type": "markdown",
   "metadata": {},
   "source": [
    " "
   ]
  },
  {
   "cell_type": "markdown",
   "metadata": {},
   "source": [
    "or of angular frequency $\\hat{\\omega}$ with period $2\\pi$: "
   ]
  },
  {
   "cell_type": "markdown",
   "metadata": {},
   "source": [
    " "
   ]
  },
  {
   "cell_type": "markdown",
   "metadata": {},
   "source": [
    "<img src='assets/20190903/8.png'>"
   ]
  },
  {
   "cell_type": "markdown",
   "metadata": {},
   "source": [
    " "
   ]
  },
  {
   "cell_type": "markdown",
   "metadata": {},
   "source": [
    "Here the spectrum $X(e^{j\\hat{\\omega}})$ is expressed as a function of $e^{j\\hat{\\omega}}$ because the spectrum can be treated as the Z transform of the discrete signal $x[m]$ evaluated along the unit circle ($\\sigma=0$): "
   ]
  },
  {
   "cell_type": "markdown",
   "metadata": {},
   "source": [
    " "
   ]
  },
  {
   "cell_type": "markdown",
   "metadata": {},
   "source": [
    "<img src='assets/20190903/9.png'>"
   ]
  },
  {
   "cell_type": "markdown",
   "metadata": {},
   "source": [
    " "
   ]
  },
  {
   "cell_type": "markdown",
   "metadata": {},
   "source": [
    "The spectrum of a sampled signal can also be obtained by convolution. First we find the spectrum of the impulse train of the comb function which is also an impulse train: "
   ]
  },
  {
   "cell_type": "markdown",
   "metadata": {},
   "source": [
    " "
   ]
  },
  {
   "cell_type": "markdown",
   "metadata": {},
   "source": [
    "<img src='assets/20190903/10.png'>"
   ]
  },
  {
   "cell_type": "markdown",
   "metadata": {},
   "source": [
    " "
   ]
  },
  {
   "cell_type": "markdown",
   "metadata": {},
   "source": [
    "where the sampling rate $F=1/t_0$ is the interval between two consecutive impulses. The sampling process $x(t) p(t)$ in time domain becomes the convolution in frequency domain: "
   ]
  },
  {
   "cell_type": "markdown",
   "metadata": {},
   "source": [
    " "
   ]
  },
  {
   "cell_type": "markdown",
   "metadata": {},
   "source": [
    "<img src='assets/20190903/11.png'>"
   ]
  },
  {
   "cell_type": "markdown",
   "metadata": {},
   "source": [
    " "
   ]
  },
  {
   "cell_type": "markdown",
   "metadata": {},
   "source": [
    "Note that $X_p(f)=X_p(f+F)$ has period $F$, and the sampling rate  $F>2f_{max}$ has to be higher than twice the highest frequency component  $f_{max}$ in the signal to avoid aliasing. Now the signal can be processed digitally in time domain by, for example, FIR or IIR filters."
   ]
  },
  {
   "cell_type": "markdown",
   "metadata": {},
   "source": [
    " "
   ]
  },
  {
   "cell_type": "markdown",
   "metadata": {},
   "source": [
    "<img src='assets/20190903/12.gif'>"
   ]
  },
  {
   "cell_type": "markdown",
   "metadata": {},
   "source": [
    " "
   ]
  },
  {
   "cell_type": "markdown",
   "metadata": {},
   "source": [
    " "
   ]
  },
  {
   "cell_type": "markdown",
   "metadata": {},
   "source": [
    " "
   ]
  },
  {
   "cell_type": "markdown",
   "metadata": {},
   "source": [
    "### Truncation"
   ]
  },
  {
   "cell_type": "markdown",
   "metadata": {},
   "source": [
    " "
   ]
  },
  {
   "cell_type": "markdown",
   "metadata": {},
   "source": [
    "In order to process the signal by a computer which can only handle finite amount of data, the sampled signal also needs to be truncated by a windowing function of finite duration $T$, e.g., a rectangular window: "
   ]
  },
  {
   "cell_type": "markdown",
   "metadata": {},
   "source": [
    " "
   ]
  },
  {
   "cell_type": "markdown",
   "metadata": {},
   "source": [
    "<img src='assets/20190903/13.png'>"
   ]
  },
  {
   "cell_type": "markdown",
   "metadata": {},
   "source": [
    " "
   ]
  },
  {
   "cell_type": "markdown",
   "metadata": {},
   "source": [
    "with spectrum: "
   ]
  },
  {
   "cell_type": "markdown",
   "metadata": {},
   "source": [
    " "
   ]
  },
  {
   "cell_type": "markdown",
   "metadata": {},
   "source": [
    "<img src='assets/20190903/14.png'>"
   ]
  },
  {
   "cell_type": "markdown",
   "metadata": {},
   "source": [
    " "
   ]
  },
  {
   "cell_type": "markdown",
   "metadata": {},
   "source": [
    "The truncation in time domain "
   ]
  },
  {
   "cell_type": "markdown",
   "metadata": {},
   "source": [
    " "
   ]
  },
  {
   "cell_type": "markdown",
   "metadata": {},
   "source": [
    "<img src='assets/20190903/15.png'>"
   ]
  },
  {
   "cell_type": "markdown",
   "metadata": {},
   "source": [
    " "
   ]
  },
  {
   "cell_type": "markdown",
   "metadata": {},
   "source": [
    "We assume there are $N=T/t_0$ signal samples inside the time window. ***The windowing in time domain corresponds to a convolution in frequency domain:*** "
   ]
  },
  {
   "cell_type": "markdown",
   "metadata": {},
   "source": [
    " "
   ]
  },
  {
   "cell_type": "markdown",
   "metadata": {},
   "source": [
    "<img src='assets/20190903/16.png'>"
   ]
  },
  {
   "cell_type": "markdown",
   "metadata": {},
   "source": [
    " "
   ]
  },
  {
   "cell_type": "markdown",
   "metadata": {},
   "source": [
    "Note that the rectangular truncation window causes some ***ringing effect***, also known as the ***Gibbs phenomenon***. For the same reason, an ideal low-pass filter in frequency domain will also cause similar ringing effect in time domain. To avoid such ringing effect, a smooth window (e.g., Butterworth or Gaussian) is usually preferred for truncation and filtering."
   ]
  },
  {
   "cell_type": "markdown",
   "metadata": {},
   "source": [
    " "
   ]
  },
  {
   "cell_type": "markdown",
   "metadata": {},
   "source": [
    "<img src='assets/20190903/17.gif'>"
   ]
  },
  {
   "cell_type": "markdown",
   "metadata": {},
   "source": [
    " "
   ]
  },
  {
   "cell_type": "markdown",
   "metadata": {},
   "source": [
    " "
   ]
  },
  {
   "cell_type": "markdown",
   "metadata": {},
   "source": [
    " "
   ]
  },
  {
   "cell_type": "markdown",
   "metadata": {},
   "source": [
    "### Frequency Sampling"
   ]
  },
  {
   "cell_type": "markdown",
   "metadata": {},
   "source": [
    " "
   ]
  },
  {
   "cell_type": "markdown",
   "metadata": {},
   "source": [
    " "
   ]
  },
  {
   "cell_type": "markdown",
   "metadata": {},
   "source": [
    "Again, the continuous spectrum $X_{st}(j2\\pi f)$ needs to be sampled by a comb function $P'(j2\\pi f)$ in frequency domain: "
   ]
  },
  {
   "cell_type": "markdown",
   "metadata": {},
   "source": [
    " "
   ]
  },
  {
   "cell_type": "markdown",
   "metadata": {},
   "source": [
    "<img src='assets/20190903/18.png'>"
   ]
  },
  {
   "cell_type": "markdown",
   "metadata": {},
   "source": [
    " "
   ]
  },
  {
   "cell_type": "markdown",
   "metadata": {},
   "source": [
    "which corresponds to another impulse train in time domain: "
   ]
  },
  {
   "cell_type": "markdown",
   "metadata": {},
   "source": [
    " "
   ]
  },
  {
   "cell_type": "markdown",
   "metadata": {},
   "source": [
    "<img src='assets/20190903/19.png'>"
   ]
  },
  {
   "cell_type": "markdown",
   "metadata": {},
   "source": [
    " "
   ]
  },
  {
   "cell_type": "markdown",
   "metadata": {},
   "source": [
    "Here the frequency sampling period is chosen to be $f_0=1/T$ so that the period $T$ of the time signal is the same as the truncation window size  $T$, and there are $F/f_0=(1/t_0)/(1/T)=T/t_0=N$ samples in each period in frequency domain as well as in time domain. The sampling process in frequency domain "
   ]
  },
  {
   "cell_type": "markdown",
   "metadata": {},
   "source": [
    " "
   ]
  },
  {
   "cell_type": "markdown",
   "metadata": {},
   "source": [
    "<img src='assets/20190903/20.png'>"
   ]
  },
  {
   "cell_type": "markdown",
   "metadata": {},
   "source": [
    " "
   ]
  },
  {
   "cell_type": "markdown",
   "metadata": {},
   "source": [
    "corresponds to a convolution in time domain: "
   ]
  },
  {
   "cell_type": "markdown",
   "metadata": {},
   "source": [
    " "
   ]
  },
  {
   "cell_type": "markdown",
   "metadata": {},
   "source": [
    "<img src='assets/20190903/21.png'>"
   ]
  },
  {
   "cell_type": "markdown",
   "metadata": {},
   "source": [
    " "
   ]
  },
  {
   "cell_type": "markdown",
   "metadata": {},
   "source": [
    " "
   ]
  },
  {
   "cell_type": "markdown",
   "metadata": {},
   "source": [
    "<img src='assets/20190903/22.gif'>"
   ]
  },
  {
   "cell_type": "markdown",
   "metadata": {},
   "source": [
    " "
   ]
  },
  {
   "cell_type": "markdown",
   "metadata": {},
   "source": [
    "***After sampling and truncation, both the signal $x[m]$ and its spectrum $X[n]$ are discrete and periodic (finite) and can be processed by a digital computer. They are related by discrete Fourier transform (DFT):***"
   ]
  },
  {
   "cell_type": "markdown",
   "metadata": {},
   "source": [
    " "
   ]
  },
  {
   "cell_type": "markdown",
   "metadata": {},
   "source": [
    "<img src='assets/20190903/23.png'>"
   ]
  },
  {
   "cell_type": "markdown",
   "metadata": {},
   "source": [
    " "
   ]
  },
  {
   "cell_type": "markdown",
   "metadata": {},
   "source": [
    " "
   ]
  },
  {
   "cell_type": "markdown",
   "metadata": {},
   "source": [
    "<img src='assets/20190903/24.png'>"
   ]
  },
  {
   "cell_type": "markdown",
   "metadata": {},
   "source": [
    " "
   ]
  },
  {
   "cell_type": "markdown",
   "metadata": {},
   "source": [
    " "
   ]
  },
  {
   "cell_type": "markdown",
   "metadata": {},
   "source": [
    " "
   ]
  },
  {
   "cell_type": "markdown",
   "metadata": {},
   "source": [
    " "
   ]
  },
  {
   "cell_type": "markdown",
   "metadata": {},
   "source": [
    " "
   ]
  },
  {
   "cell_type": "markdown",
   "metadata": {},
   "source": [
    " "
   ]
  }
 ],
 "metadata": {
  "kernelspec": {
   "display_name": "Python 3",
   "language": "python",
   "name": "python3"
  },
  "language_info": {
   "codemirror_mode": {
    "name": "ipython",
    "version": 3
   },
   "file_extension": ".py",
   "mimetype": "text/x-python",
   "name": "python",
   "nbconvert_exporter": "python",
   "pygments_lexer": "ipython3",
   "version": "3.7.3"
  }
 },
 "nbformat": 4,
 "nbformat_minor": 2
}
