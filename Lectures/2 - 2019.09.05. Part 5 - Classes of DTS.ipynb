{
 "cells": [
  {
   "cell_type": "markdown",
   "metadata": {},
   "source": [
    "# <div align=\"center\">Classes of Discrete Time Signals</div>\n",
    "---------------------------------------------------------------------\n",
    "\n",
    "you can Find me on Github:\n",
    "> ###### [ GitHub](https://github.com/lev1khachatryan)"
   ]
  },
  {
   "cell_type": "markdown",
   "metadata": {},
   "source": [
    " "
   ]
  },
  {
   "cell_type": "markdown",
   "metadata": {},
   "source": [
    "# Finite-Length Signals"
   ]
  },
  {
   "cell_type": "markdown",
   "metadata": {},
   "source": [
    " "
   ]
  },
  {
   "cell_type": "markdown",
   "metadata": {},
   "source": [
    "As we just mentioned, a finite-length discrete-time signal of length N is\n",
    "just a collection of N complex values. To introduce a point that will reappear\n",
    "throughout the book, a finite-length signal of length N is entirely equivalent\n",
    "to a vector in $C^N$. This equivalence is of immense import since all the tools\n",
    "of linear algebra become readily available for describing and manipulating\n",
    "finite-length signals. We can represent an N-point finite-length signal using\n",
    "the standard vector notation\n",
    "\n",
    "<img src='assets/20190905 05/1.png'>\n",
    "\n",
    "Note the transpose operator, which declares x as a column vector; this is\n",
    "the customary practice in the case of complex-valued vectors. Alternatively,\n",
    "we can (and often will) use a notation that mimics the one used for proper\n",
    "sequences:\n",
    "\n",
    "<img src='assets/20190905 05/2.png'>\n",
    "\n",
    "Here we must remember that, although we use the notation x[n], x[n] is\n",
    "not defined for values outside its support, i.e. for n < 0 or for n ≥ N. Note\n",
    "that we can always obtain a finite-length signal from an infinite sequence\n",
    "by simply dropping the sequence values outside the indices of interest. Vector and sequence notations are equivalent and will be used interchangeably\n",
    "according to convenience; in general, the vector notation is useful when we\n",
    "want to stress the algorithmic or geometric nature of certain signal processing operations. The sequence notation is useful in stressing the algebraic\n",
    "structure of signal processing."
   ]
  },
  {
   "cell_type": "markdown",
   "metadata": {},
   "source": [
    "Finite-length signals are extremely convenient entities: their energy is\n",
    "always finite and, as a consequence, no stability issues arise in processing. From\n",
    "the computational point of view, they are not only a necessity but often the\n",
    "cornerstone of very efficient algorithmic design (as we will see, for instance,\n",
    "in the case of the FFT); one could say that all “practical” signal processing\n",
    "lives in $C^N$. It would be extremely awkward, however, to develop the whole\n",
    "theory of signal processing only in terms of finite-length signals; the asymptotic behavior of algorithms and transformations for infinite sequences is\n",
    "also extremely valuable since a stability result proven for a general sequence\n",
    "will hold for all finite-length signals too. Furthermore, the notational flexibility which infinite sequences derive from their function-like definition is\n",
    "extremely practical from the point of view of the notation. We can immediately recognize and understand the expression x[n −k] as a k-point shift of\n",
    "a sequence x[n]; but, in the case of finite-support signals, how are we to define such a shift? We would have to explicitly take into account the finiteness\n",
    "of the signal and the associated “border effects”, i.e. the behavior of operations at the edges of the signal. For this reason, in most derivations which\n",
    "involve finite-length signal, these signals will be ***embedded*** into proper sequences, as we will see shortly."
   ]
  },
  {
   "cell_type": "markdown",
   "metadata": {},
   "source": [
    " "
   ]
  },
  {
   "cell_type": "markdown",
   "metadata": {},
   "source": [
    " "
   ]
  },
  {
   "cell_type": "markdown",
   "metadata": {},
   "source": [
    " "
   ]
  },
  {
   "cell_type": "markdown",
   "metadata": {},
   "source": [
    "#  Infinite-Length Signals"
   ]
  },
  {
   "cell_type": "markdown",
   "metadata": {},
   "source": [
    " "
   ]
  },
  {
   "cell_type": "markdown",
   "metadata": {},
   "source": [
    "***Aperiodic Signals.*** The most general type of discrete-time signal is represented by a generic infinite complex sequence. Although, as previously\n",
    "mentioned, they lie beyond our processing and storage capabilities, they\n",
    "are invaluably useful as a generalization in the limit. As such, they must\n",
    "be handled with some care when it comes to their properties. We will see\n",
    "shortly that two of the most important properties of infinite sequences concern their ***summability***: this can take the form of either ***absolute summability*** (stronger condition) or ***square summability*** (weaker condition, corresponding to finite energy)"
   ]
  },
  {
   "cell_type": "markdown",
   "metadata": {},
   "source": [
    " "
   ]
  },
  {
   "cell_type": "markdown",
   "metadata": {},
   "source": [
    "***Periodic Signals.*** A periodic sequence with period N is one for which\n",
    "\n",
    "<img src='assets/20190905 05/3.png'>\n",
    "\n",
    "The tilde notation x˜[n] will be used whenever we need to explicitly stress\n",
    "a periodic behavior. Clearly an N-periodic sequence is completely defined\n",
    "by its N values over a period; that is, a ***periodic sequence “carries no more\n",
    "information” than a finite-length signal of length N.***"
   ]
  },
  {
   "cell_type": "markdown",
   "metadata": {},
   "source": [
    " "
   ]
  },
  {
   "cell_type": "markdown",
   "metadata": {},
   "source": [
    "  "
   ]
  },
  {
   "cell_type": "markdown",
   "metadata": {},
   "source": [
    "***Periodic Extensions.*** Periodic sequences are infinite in length, and yet\n",
    "their information is contained within a finite number of samples. In this\n",
    "sense, periodic sequences represent a first bridge between finite-length signals and infinite sequences. In order to “embed” a finite-length signal x[n],\n",
    "n = 0,... ,N −1 into a sequence, we can take its periodized version:\n",
    "\n",
    "<img src='assets/20190905 05/4.png'>\n",
    "\n",
    "this is called the ***periodic extension of the finite length signal x[n].*** This type\n",
    "of extension is the “natural” one in many contexts, for reasons which will\n",
    "be apparent later when we study the frequency-domain representation of\n",
    "discrete-time signals. Note that now an arbitrary shift of the periodic sequence corresponds to the periodization of a circular shift of the original\n",
    "finite-length signal. A circular shift by k ∈ Z is easily visualized by imagining\n",
    "a shift register; if we are shifting towards the right (k > 0), the values which\n",
    "pop out of the rightmost end of the shift register are pushed back in at the\n",
    "other end (For example, if x = [1 2 3 4 5], a right circular shift by 2 yields x = [4 5 1 2 3]) The relationship between the circular shift of a finite-length\n",
    "signal and the linear shift of its periodic extension is depicted in Figure below.\n",
    "Finally, ***the energy of a periodic extension becomes infinite, while its power\n",
    "is simply the energy of the finite-length original signal scaled by 1/N.***"
   ]
  },
  {
   "cell_type": "markdown",
   "metadata": {},
   "source": [
    "<img src='assets/20190905 05/6.png'>\n",
    "\n",
    "Equivalence between a right shift by one of a periodized signal and the\n",
    "circular shift of the original signal. x and x' are the length-N original signal and its\n",
    "right circular shift by one, respectively"
   ]
  },
  {
   "cell_type": "markdown",
   "metadata": {},
   "source": [
    " "
   ]
  },
  {
   "cell_type": "markdown",
   "metadata": {},
   "source": [
    " "
   ]
  },
  {
   "cell_type": "markdown",
   "metadata": {},
   "source": [
    "***Finite-Support Signals.*** An infinite discrete-time sequence $\\bar{x}[n]$ is said to\n",
    "have finite support if its values are zero for all indices outside of an interval;\n",
    "that is, there exist N and M ∈ Z such that\n",
    "\n",
    "<img src='assets/20190905 05/7.png'>\n",
    "\n",
    "Note that, although $\\bar{x}[n]$ is an infinite sequence, the knowledge of M and of\n",
    "the N nonzero values of the sequence completely specifies the entire signal.\n",
    "This suggests another approach to embedding a finite-length signal x[n],\n",
    "n = 0,... ,N −1, into a sequence, i.e.\n",
    "\n",
    "<img src='assets/20190905 05/8.png'>\n",
    "\n",
    "where we have chosen M = 0 (but any other choice of M could be used).\n",
    "Note that, here, in contrast to the periodic extension of x[n], we are actually adding arbitrary information in the form of the zero values outside\n",
    "of the support interval. This is not without consequences, as we will see\n",
    "in the following notebooks. In general, we will use the bar notation $\\bar{x}[n]$ for\n",
    "sequences defined as the ***finite support extension of a finite-length signal***.\n",
    "Note that, now, the shift of the finite-support extension gives rise to a zeropadded shift of the signal locations between M and M +N −1; the dynamics\n",
    "of the shift are shown in Figure below."
   ]
  },
  {
   "cell_type": "markdown",
   "metadata": {},
   "source": [
    "<img src='assets/20190905 05/8.png'>\n",
    "\n",
    "Relationship between the right shift by one of a finite-support extension and the zero padded shift of the original signal. x and x' are the length-N\n",
    "original signal and its zero-padded shift by one, respectively."
   ]
  },
  {
   "cell_type": "markdown",
   "metadata": {},
   "source": [
    " "
   ]
  },
  {
   "cell_type": "markdown",
   "metadata": {},
   "source": [
    " "
   ]
  },
  {
   "cell_type": "markdown",
   "metadata": {},
   "source": [
    " "
   ]
  },
  {
   "cell_type": "markdown",
   "metadata": {},
   "source": [
    " "
   ]
  },
  {
   "cell_type": "markdown",
   "metadata": {},
   "source": [
    " "
   ]
  },
  {
   "cell_type": "markdown",
   "metadata": {},
   "source": [
    " "
   ]
  },
  {
   "cell_type": "markdown",
   "metadata": {},
   "source": [
    "<img src='assets/20190905 05/10.png'>"
   ]
  },
  {
   "cell_type": "markdown",
   "metadata": {},
   "source": [
    " "
   ]
  },
  {
   "cell_type": "markdown",
   "metadata": {},
   "source": [
    "## eq. 0\n",
    "\n",
    "<img src='assets/20190905 04/16.png'>\n",
    "\n",
    "## eq. 1\n",
    "\n",
    "<img src='assets/20190905 05/11.png'>\n",
    "\n",
    "## eq. 2\n",
    "<img src='assets/20190905 04/15.png'>\n"
   ]
  },
  {
   "cell_type": "markdown",
   "metadata": {},
   "source": [
    " "
   ]
  },
  {
   "cell_type": "markdown",
   "metadata": {},
   "source": [
    " "
   ]
  },
  {
   "cell_type": "markdown",
   "metadata": {},
   "source": [
    " "
   ]
  }
 ],
 "metadata": {
  "kernelspec": {
   "display_name": "Python 3",
   "language": "python",
   "name": "python3"
  },
  "language_info": {
   "codemirror_mode": {
    "name": "ipython",
    "version": 3
   },
   "file_extension": ".py",
   "mimetype": "text/x-python",
   "name": "python",
   "nbconvert_exporter": "python",
   "pygments_lexer": "ipython3",
   "version": "3.7.3"
  }
 },
 "nbformat": 4,
 "nbformat_minor": 2
}
