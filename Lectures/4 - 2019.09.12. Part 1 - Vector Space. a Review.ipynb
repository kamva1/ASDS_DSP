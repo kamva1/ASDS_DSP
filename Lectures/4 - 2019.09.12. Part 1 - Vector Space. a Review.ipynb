{
 "cells": [
  {
   "cell_type": "markdown",
   "metadata": {},
   "source": [
    "# <div align=\"center\">Vector Space. a Review</div>\n",
    "---------------------------------------------------------------------\n",
    "\n",
    "you can Find me on Github:\n",
    "> ###### [ GitHub](https://github.com/lev1khachatryan)"
   ]
  },
  {
   "cell_type": "markdown",
   "metadata": {},
   "source": [
    " "
   ]
  },
  {
   "cell_type": "markdown",
   "metadata": {},
   "source": [
    " "
   ]
  },
  {
   "cell_type": "markdown",
   "metadata": {},
   "source": [
    "A ***vector space*** (also called a linear space) is a collection of objects called vectors, which may be added together and multiplied (\"scaled\") by numbers, called scalars. Scalars are often taken to be real numbers, but there are also vector spaces with scalar multiplication by complex numbers, rational numbers, or generally any field. The operations of vector addition and scalar multiplication must satisfy certain requirements, called axioms. For specifying that the scalars are real or complex numbers, the terms ***real vector space*** and ***complex vector space*** are often used. ***Euclidean vectors*** are an example of a vector space. They represent physical quantities such as forces: any two forces (of the same type) can be added to yield a third, and the multiplication of a force vector by a real multiplier is another force vector.\n",
    "\n",
    "Vector spaces are the subject of linear algebra and are well characterized by their dimension, which, roughly speaking, specifies the number of independent directions in the space. Infinite-dimensional vector spaces arise naturally in mathematical analysis, as function spaces, whose vectors are functions. These vector spaces are generally endowed with additional structure, which may be a topology, allowing the consideration of issues of proximity and continuity. Among these topologies, those that are defined by a ***norm or inner product are more commonly used***, as having a notion of distance between two vectors. This is particularly the case of ***Banach spaces and Hilbert spaces***, which are fundamental in mathematical analysis.\n",
    "\n"
   ]
  },
  {
   "cell_type": "markdown",
   "metadata": {},
   "source": [
    " "
   ]
  },
  {
   "cell_type": "markdown",
   "metadata": {},
   "source": [
    "## Definition"
   ]
  },
  {
   "cell_type": "markdown",
   "metadata": {},
   "source": [
    " "
   ]
  },
  {
   "cell_type": "markdown",
   "metadata": {},
   "source": [
    "A vector space over a field F is a set V together with two operations that satisfy the eight axioms listed below.\n",
    "\n",
    "* The first operation, called vector addition or simply addition $+ : V x V \\to V$, takes any two vectors $v$ and $w$ and assigns to them a third vector which is commonly written as $v + w$, and called the sum of these two vectors. (The resultant vector is also an element of the set V.)\n",
    "\n",
    "\n",
    "* The second operation, called scalar multiplication $ \\cdot  : F x V \\to V$， takes any scalar $a$ and any vector $v$ and gives another vector $a \\cdot v$ (Similarly, the vector $a \\cdot v$ is an element of the set $V$.)\n",
    "\n",
    "Elements of V are commonly called vectors. Elements of F are commonly called scalars.\n",
    "\n",
    "To qualify as a vector space, the set V and the operations of addition and multiplication must adhere to a number of requirements called axioms. In the list below, let ***$u, v$ and $w$ be arbitrary vectors in $V$, and $a$ and $b$ scalars in $F$***.\n",
    "\n",
    "* Associativity of addition\t$u + (v + w) = (u + v) + w$\n",
    "\n",
    "\n",
    "* Commutativity of addition\t$u + v = v + u$\n",
    "\n",
    "\n",
    "* Identity element of addition\tThere exists an element $ 0 \\in V $, called the zero vector, such that $v + 0 = v$ for all $v \\in V$.\n",
    "\n",
    "\n",
    "* Inverse elements of addition\tFor every $v \\in V$, there exists an element $ - v \\in V $, called the additive inverse of $v$, such that $v + (-v) = 0$.\n",
    "\n",
    "\n",
    "* Compatibility of scalar multiplication with field multiplication\t$a(bv) = (ab)v$\n",
    "\n",
    "\n",
    "* Identity element of scalar multiplication\t$1v = v$, where $1$ denotes the multiplicative identity in $F$.\n",
    "\n",
    "\n",
    "* Distributivity of scalar multiplication with respect to vector addition  \t$a(u + v) = au + av$\n",
    "\n",
    "\n",
    "* Distributivity of scalar multiplication with respect to field addition\t$(a + b)v = av + bv$\n",
    "\n",
    "***Notes***:\n",
    "\n",
    "1. The ***first four axioms*** are equivalent to requiring the set of vectors to be an ***abelian group under addition***. \n",
    "\n",
    "\n",
    "2. When the scalar field F is the real numbers R, the vector space is called a ***real vector space***. When the scalar field is the complex numbers C, the vector space is called a ***complex vector space***.\n",
    "\n",
    "\n",
    "3. Zero vector 0 of V and the additive inverse −v of any vector v are unique\n",
    "\n",
    "\n",
    "4. av equals 0 if and only if a equals 0 or v equals 0."
   ]
  },
  {
   "cell_type": "markdown",
   "metadata": {},
   "source": [
    " "
   ]
  },
  {
   "cell_type": "markdown",
   "metadata": {},
   "source": [
    "## Basis and dimension"
   ]
  },
  {
   "cell_type": "markdown",
   "metadata": {},
   "source": [
    " "
   ]
  },
  {
   "cell_type": "markdown",
   "metadata": {},
   "source": [
    "A basis is a (finite or infinite) set $B = \\{b_{i}\\}_{i \\in I}$ of vectors $b_{i}$, for convenience often indexed by some index set I, that ***spans the whole space and is linearly independent***. \"Spanning the whole space\" means that any vector v can be expressed as a finite sum (called a linear combination) of the basis elements:\n",
    "$v =a_{1}\\mathbf {b} _{i_{1}}+a_{2}\\mathbf {b} _{i_{2}}+\\cdots +a_{n}\\mathbf {b} _{i_{n}}$\n",
    "\n",
    "For example, the coordinate vectors $e_{1} = (1, 0, ..., 0), e_{2} = (0, 1, 0, ..., 0), to e_{n} = (0, 0, ..., 0, 1)$, form a basis of $F_{n}$, called the ***standard basis***, since any vector $(x_{1}, x_{2}, ..., x_{n})$ can be uniquely expressed as a linear combination of these vectors:\n",
    "\n",
    "$(x_{1}, x_{2}, ..., x_{n}) = x_{1}(1, 0, ..., 0) + x_{2}(0, 1, 0, ..., 0) + ... + x_{n}(0, ..., 0, 1) = x_{1}e_{1} + x_{2}e_{2} + ... + x_{n}e_{n}$"
   ]
  },
  {
   "cell_type": "markdown",
   "metadata": {},
   "source": []
  },
  {
   "cell_type": "markdown",
   "metadata": {},
   "source": []
  },
  {
   "cell_type": "markdown",
   "metadata": {},
   "source": []
  },
  {
   "cell_type": "markdown",
   "metadata": {},
   "source": []
  },
  {
   "cell_type": "markdown",
   "metadata": {},
   "source": []
  },
  {
   "cell_type": "markdown",
   "metadata": {},
   "source": []
  },
  {
   "cell_type": "markdown",
   "metadata": {},
   "source": []
  },
  {
   "cell_type": "markdown",
   "metadata": {},
   "source": []
  },
  {
   "cell_type": "markdown",
   "metadata": {},
   "source": []
  },
  {
   "cell_type": "markdown",
   "metadata": {},
   "source": []
  },
  {
   "cell_type": "markdown",
   "metadata": {},
   "source": []
  },
  {
   "cell_type": "markdown",
   "metadata": {},
   "source": []
  },
  {
   "cell_type": "markdown",
   "metadata": {},
   "source": []
  },
  {
   "cell_type": "markdown",
   "metadata": {},
   "source": []
  },
  {
   "cell_type": "markdown",
   "metadata": {},
   "source": []
  },
  {
   "cell_type": "markdown",
   "metadata": {},
   "source": []
  },
  {
   "cell_type": "markdown",
   "metadata": {},
   "source": []
  },
  {
   "cell_type": "markdown",
   "metadata": {},
   "source": []
  },
  {
   "cell_type": "markdown",
   "metadata": {},
   "source": []
  },
  {
   "cell_type": "markdown",
   "metadata": {},
   "source": []
  },
  {
   "cell_type": "markdown",
   "metadata": {},
   "source": []
  },
  {
   "cell_type": "markdown",
   "metadata": {},
   "source": []
  },
  {
   "cell_type": "markdown",
   "metadata": {},
   "source": []
  }
 ],
 "metadata": {
  "kernelspec": {
   "display_name": "Python 3",
   "language": "python",
   "name": "python3"
  },
  "language_info": {
   "codemirror_mode": {
    "name": "ipython",
    "version": 3
   },
   "file_extension": ".py",
   "mimetype": "text/x-python",
   "name": "python",
   "nbconvert_exporter": "python",
   "pygments_lexer": "ipython3",
   "version": "3.7.3"
  }
 },
 "nbformat": 4,
 "nbformat_minor": 2
}
