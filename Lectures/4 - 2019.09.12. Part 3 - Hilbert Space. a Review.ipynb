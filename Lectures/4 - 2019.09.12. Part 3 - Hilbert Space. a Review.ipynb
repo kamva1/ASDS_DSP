{
 "cells": [
  {
   "cell_type": "markdown",
   "metadata": {},
   "source": [
    "# <div align=\"center\">Hilbert Space. a Review</div>\n",
    "---------------------------------------------------------------------\n",
    "\n",
    "you can Find me on Github:\n",
    "> ###### [ GitHub](https://github.com/lev1khachatryan)"
   ]
  },
  {
   "cell_type": "markdown",
   "metadata": {},
   "source": [
    " "
   ]
  },
  {
   "cell_type": "markdown",
   "metadata": {},
   "source": [
    " "
   ]
  },
  {
   "cell_type": "markdown",
   "metadata": {},
   "source": [
    "A ***Hilbert space*** is an abstract vector space possessing the structure of an ***inner product*** that allows length and angle to be measured. Furthermore, Hilbert spaces are ***complete***: there are enough limits in the space to allow the techniques of calculus to be used."
   ]
  },
  {
   "cell_type": "markdown",
   "metadata": {},
   "source": [
    " "
   ]
  },
  {
   "cell_type": "markdown",
   "metadata": {},
   "source": [
    "## Motivating example: Euclidean space"
   ]
  },
  {
   "cell_type": "markdown",
   "metadata": {},
   "source": [
    " "
   ]
  },
  {
   "cell_type": "markdown",
   "metadata": {},
   "source": [
    "One of the most familiar examples of a Hilbert space is the Euclidean space consisting of three-dimensional vectors, denoted by $R^3$, and equipped with the dot product. The dot product takes two vectors $x$ and $y$, and produces a real number $x \\cdot y$. If $x$ and $y$ are represented in Cartesian coordinates, then the dot product is defined by\n",
    "\n",
    "${\\displaystyle {\\begin{pmatrix}x_{1}\\\\x_{2}\\\\x_{3}\\end{pmatrix}}\\cdot {\\begin{pmatrix}y_{1}\\\\y_{2}\\\\y_{3}\\end{pmatrix}}=x_{1}y_{1}+x_{2}y_{2}+x_{3}y_{3}\\,.}$\n",
    "\n",
    "The dot product satisfies the properties:\n",
    "\n",
    "* It is symmetric in x and $y: x \\cdot y = y \\cdot x$\n",
    "\n",
    "\n",
    "* It is linear in its first argument: $(ax_{1} + bx_{2}) \\cdot y = ax_{1} \\cdot y + bx_{2} \\cdot y$ for any scalars a, b, and vectors $x_{1}$, $x_{2}$, and $y$.\n",
    "\n",
    "\n",
    "* It is positive definite: for all vectors $x, x \\cdot x ≥ 0$ , with equality if and only if $x = 0$.\n",
    "\n",
    "An operation on pairs of vectors that, like the dot product, satisfies these three properties is known as a (real) inner product. A vector space equipped with such an inner product is known as a (real) inner product space. ***Every finite-dimensional inner product space is also a Hilbert space***. The basic feature of the dot product that connects it with Euclidean geometry is that it is related to both the length (or norm) of a vector, denoted $||x||$, and to the angle $\\theta$ between two vectors x and y by means of the formula\n",
    "\n",
    "${\\displaystyle \\mathbf {x} \\cdot \\mathbf {y} =\\|\\mathbf {x} \\|\\,\\|\\mathbf {y} \\|\\,\\cos \\theta \\,.}$\n",
    "\n",
    "Multivariable calculus in Euclidean space relies on the ability to compute limits, and to have useful criteria for concluding that limits exist. A mathematical series\n",
    "\n",
    "$\\sum _{n=0}^{\\infty }\\mathbf {x} _{n}$\n",
    "\n",
    "consisting of vectors in $R^3$ is absolutely convergent provided that the sum of the lengths converges as an ordinary series of real numbers:\n",
    "\n",
    "${\\displaystyle \\sum _{k=0}^{\\infty }\\|\\mathbf {x} _{k}\\|<\\infty \\,.}$\n",
    "\n",
    "Just as with a series of scalars, a series of vectors that converges absolutely also converges to some limit vector L in the Euclidean space, in the sense that\n",
    "\n",
    "${\\displaystyle \\left\\|\\mathbf {L} -\\sum _{k=0}^{N}\\mathbf {x} _{k}\\right\\|\\to 0\\quad {\\text{as }}N\\to \\infty \\,.}$\n",
    "\n",
    "This property expresses the completeness of Euclidean space: that a series that converges absolutely also converges in the ordinary sense.\n",
    "\n"
   ]
  },
  {
   "cell_type": "markdown",
   "metadata": {},
   "source": [
    " "
   ]
  },
  {
   "cell_type": "markdown",
   "metadata": {},
   "source": [
    " "
   ]
  },
  {
   "cell_type": "markdown",
   "metadata": {},
   "source": [
    "## Definition"
   ]
  },
  {
   "cell_type": "markdown",
   "metadata": {},
   "source": [
    " "
   ]
  },
  {
   "cell_type": "markdown",
   "metadata": {},
   "source": [
    "A ***Hilbert space H*** is a real or complex inner product space that is also a ***complete metric space*** with respect to the distance function induced by the inner product.\n",
    "\n",
    "To say that H is a complex inner product space means that H is a complex vector space on which there is an inner product $ \\langle x, y \\rangle $ associating a complex number to each pair of elements $x, y$ of H that satisfies the following properties:\n",
    "\n",
    "* The inner product is conjugate symmetric; that is, the inner product of a pair of elements is equal to the complex conjugate of the inner product of the swapped elements:\n",
    "\n",
    "    ${\\displaystyle \\langle y,x\\rangle ={\\overline {\\langle x,y\\rangle }}\\,.}$\n",
    "\n",
    "* The inner product is linear in its first argument. For all complex numbers a and b,\n",
    "    \n",
    "    ${\\displaystyle \\langle ax_{1}+bx_{2},y\\rangle =a\\langle x_{1},y\\rangle +b\\langle x_{2},y\\rangle \\,.}$\n",
    "\n",
    "* The inner product of an element with itself is positive definite:\n",
    "\n",
    "    ${\\displaystyle {\\begin{cases}\\langle x,x\\rangle >0&x\\neq 0\\\\\\langle x,x\\rangle =0&x=0\\,.\\end{cases}}}$\n",
    "\n",
    "***Notes***\n",
    "\n",
    "1. It follows from properties 1 and 2 that a complex inner product is conjugate linear in its second argument, meaning that\n",
    "\n",
    "    ${\\displaystyle \\langle x,ay_{1}+by_{2}\\rangle ={\\bar {a}}\\langle x,y_{1}\\rangle +{\\bar {b}}\\langle x,y_{2}\\rangle \\,.}$\n",
    "\n",
    "\n",
    "2. A real inner product space is defined in the same way, except that H is a real vector space and the inner product takes real values. Such an inner product will be bilinear: that is, linear in each argument.\n",
    "\n",
    "\n",
    "3. The norm is the real-valued function\n",
    "\n",
    "    ${\\displaystyle \\|x\\|={\\sqrt {\\langle x,x\\rangle }}\\,}$\n",
    "    \n",
    "    \n",
    "4. The ***distance*** d between two points x, y in H is defined in terms of the norm by\n",
    "\n",
    "    ${\\displaystyle d(x,y)=\\|x-y\\|={\\sqrt {\\langle x-y,x-y\\rangle }}\\,.}$\n",
    "    \n",
    "    That this function is a distance function means firstly that it is symmetric in x and y, secondly that the distance between x and itself is zero, and otherwise the distance between x and y must be positive, and lastly that the triangle inequality holds, meaning that the length of one leg of a triangle xyz cannot exceed the sum of the lengths of the other two legs:\n",
    "    \n",
    "    ${\\displaystyle d(x,z)\\leq d(x,y)+d(y,z)\\,.}$\n",
    "    \n",
    "    This last property is ultimately a consequence of the more fundamental ***Cauchy–Schwarz inequality***, which asserts\n",
    "    \n",
    "    ${\\displaystyle {\\bigl |}\\langle x,y\\rangle {\\bigr |}\\leq \\|x\\|\\,\\|y\\|}$\n",
    "    \n",
    "    with equality if and only if x and y are linearly dependent.\n",
    "    \n",
    "    With a distance function defined in this way, any inner product space is a ***metric space***, and sometimes is known as a ***pre-Hilbert space***. Any ***pre-Hilbert space that is additionally also a complete space is a Hilbert space.***\n",
    "    \n",
    "    \n",
    "5. The ***completeness*** of H is expressed using a form of the ***Cauchy criterion*** for sequences in H: a ***pre-Hilbert space H is complete if every Cauchy sequence converges with respect to this norm to an element in the space***. Completeness can be characterized by the following equivalent condition: if a series of vectors\n",
    "\n",
    "    ${\\displaystyle \\sum _{k=0}^{\\infty }u_{k}}$\n",
    "    \n",
    "    converges absolutely in the sense that\n",
    "    \n",
    "    ${\\displaystyle \\sum _{k=0}^{\\infty }\\|u_{k}\\|<\\infty \\,,}$\n",
    "    \n",
    "    then the series converges in H, in the sense that the partial sums converge to an element of H.\n",
    "    \n",
    "    \n",
    "6. As a complete normed space, ***Hilbert spaces are by definition also Banach spaces***. As such they are topological vector spaces, in which topological notions like the openness and closedness of subsets are well defined. Of special importance is the notion of a closed linear subspace of a Hilbert space that, with the inner product induced by restriction, is also complete (being a closed set in a complete metric space) and therefore a Hilbert space in its own right.\n",
    "\n"
   ]
  },
  {
   "cell_type": "markdown",
   "metadata": {},
   "source": [
    " "
   ]
  },
  {
   "cell_type": "markdown",
   "metadata": {},
   "source": [
    " "
   ]
  },
  {
   "cell_type": "markdown",
   "metadata": {},
   "source": [
    "## Application in Fourier analysis"
   ]
  },
  {
   "cell_type": "markdown",
   "metadata": {},
   "source": [
    " "
   ]
  },
  {
   "cell_type": "markdown",
   "metadata": {},
   "source": [
    "One of the basic goals of Fourier analysis is to ***decompose a function into a (possibly infinite) linear combination of given basis functions***: the associated Fourier series. The classical Fourier series associated to a function f defined on the interval [0, 1] is a series of the form\n",
    "\n",
    "$\\sum _{n=-\\infty }^{\\infty }a_{n}e^{2\\pi in\\theta }$\n",
    "\n",
    "where\n",
    "\n",
    "${\\displaystyle a_{n}=\\int _{0}^{1}f(\\theta )e^{-2\\pi in\\theta }\\,\\mathrm {d} \\theta \\,.}$\n",
    "\n",
    "The basis functions are sine waves with wavelengths $\\lambda / n$ (for integer n) shorter than the wavelength $\\lambda$ of the sawtooth itself (except for n = 1, the fundamental wave). All basis functions have nodes at the nodes of the sawtooth, but all but the fundamental have additional nodes. The oscillation of the summed terms about the sawtooth is called the Gibbs phenomenon.\n",
    "\n",
    "A significant problem in classical Fourier series asks in what sense the Fourier series converges, if at all, to the function f. Hilbert space methods provide one possible answer to this question. The functions $e_{n}(\\theta) = e^{2 \\pi in \\theta}$ form an orthogonal basis of the Hilbert space $L^{2}([0, 1])$. Consequently, any square-integrable function can be expressed as a series\n",
    "\n",
    "${\\displaystyle f(\\theta )=\\sum _{n}a_{n}e_{n}(\\theta )\\,,\\quad a_{n}=\\langle f,e_{n}\\rangle }$\n",
    "\n",
    "and, moreover, ***this series converges in the Hilbert space sense*** (that is, in the $L^2$ mean)."
   ]
  },
  {
   "cell_type": "markdown",
   "metadata": {},
   "source": [
    " "
   ]
  },
  {
   "cell_type": "markdown",
   "metadata": {},
   "source": [
    " "
   ]
  },
  {
   "cell_type": "markdown",
   "metadata": {},
   "source": [
    " "
   ]
  },
  {
   "cell_type": "markdown",
   "metadata": {},
   "source": [
    " "
   ]
  },
  {
   "cell_type": "markdown",
   "metadata": {},
   "source": [
    " "
   ]
  },
  {
   "cell_type": "markdown",
   "metadata": {},
   "source": [
    " "
   ]
  },
  {
   "cell_type": "markdown",
   "metadata": {},
   "source": [
    " "
   ]
  },
  {
   "cell_type": "markdown",
   "metadata": {},
   "source": [
    " "
   ]
  },
  {
   "cell_type": "markdown",
   "metadata": {},
   "source": [
    " "
   ]
  },
  {
   "cell_type": "markdown",
   "metadata": {},
   "source": [
    " "
   ]
  },
  {
   "cell_type": "markdown",
   "metadata": {},
   "source": [
    " "
   ]
  },
  {
   "cell_type": "markdown",
   "metadata": {},
   "source": [
    " "
   ]
  },
  {
   "cell_type": "markdown",
   "metadata": {},
   "source": [
    " "
   ]
  }
 ],
 "metadata": {
  "kernelspec": {
   "display_name": "Python 3",
   "language": "python",
   "name": "python3"
  },
  "language_info": {
   "codemirror_mode": {
    "name": "ipython",
    "version": 3
   },
   "file_extension": ".py",
   "mimetype": "text/x-python",
   "name": "python",
   "nbconvert_exporter": "python",
   "pygments_lexer": "ipython3",
   "version": "3.7.3"
  }
 },
 "nbformat": 4,
 "nbformat_minor": 2
}
