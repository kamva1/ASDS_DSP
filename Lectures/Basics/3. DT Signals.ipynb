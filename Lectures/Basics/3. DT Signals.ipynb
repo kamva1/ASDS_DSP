{
 "cells": [
  {
   "cell_type": "markdown",
   "metadata": {},
   "source": [
    "# <div align=\"center\">Basic DT Signals</div>\n",
    "---------------------------------------------------------------------\n",
    "\n",
    "you can Find me on Github:\n",
    "> ###### [ GitHub](https://github.com/lev1khachatryan)"
   ]
  },
  {
   "cell_type": "markdown",
   "metadata": {},
   "source": [
    " "
   ]
  },
  {
   "cell_type": "markdown",
   "metadata": {},
   "source": [
    "We have seen that how the basic signals can be represented in Continuous time domain. Let us see how the basic signals can be represented in Discrete Time Domain."
   ]
  },
  {
   "cell_type": "markdown",
   "metadata": {},
   "source": [
    " "
   ]
  },
  {
   "cell_type": "markdown",
   "metadata": {},
   "source": [
    "# <div align=\"center\">Unit Impulse Sequence</div>\n",
    "---------------------------------------------------------------------"
   ]
  },
  {
   "cell_type": "markdown",
   "metadata": {},
   "source": [
    " "
   ]
  },
  {
   "cell_type": "markdown",
   "metadata": {},
   "source": [
    "It is denoted as δ(n) in discrete time domain and can be defined as:\n",
    "\n",
    "$\\delta(n) =\n",
    "  \\begin{cases}\n",
    "    1       & \\quad \\text{for } n = 0\\\\\n",
    "    0  & \\quad \\text{otherwise }\n",
    "  \\end{cases}\n",
    "$\n",
    "\n",
    "<img src='asset/3/1.png'>"
   ]
  },
  {
   "cell_type": "markdown",
   "metadata": {},
   "source": [
    " "
   ]
  },
  {
   "cell_type": "markdown",
   "metadata": {},
   "source": [
    "# <div align=\"center\">Unit Step Signal</div>\n",
    "---------------------------------------------------------------------"
   ]
  },
  {
   "cell_type": "markdown",
   "metadata": {},
   "source": [
    " "
   ]
  },
  {
   "cell_type": "markdown",
   "metadata": {},
   "source": [
    "Discrete time unit step signal is defined as:\n",
    "\n",
    "$U(n) =\n",
    "  \\begin{cases}\n",
    "    1       & \\quad \\text{for } n \\geq 0\\\\\n",
    "    0  & \\quad \\text{for } n < 0\n",
    "  \\end{cases}\n",
    "$\n",
    "\n",
    "<img src='asset/3/2.png'>\n",
    "\n",
    "The figure above shows the graphical representation of a discrete step function."
   ]
  },
  {
   "cell_type": "markdown",
   "metadata": {},
   "source": [
    " "
   ]
  },
  {
   "cell_type": "markdown",
   "metadata": {},
   "source": [
    "# <div align=\"center\">Unit Ramp Function</div>\n",
    "---------------------------------------------------------------------"
   ]
  },
  {
   "cell_type": "markdown",
   "metadata": {},
   "source": [
    " "
   ]
  },
  {
   "cell_type": "markdown",
   "metadata": {},
   "source": [
    "A discrete unit ramp function can be defined as:\n",
    "\n",
    "$r(n) =\n",
    "  \\begin{cases}\n",
    "    n       & \\quad \\text{for } n \\geq 0\\\\\n",
    "    0  & \\quad \\text{for } n < 0\n",
    "  \\end{cases}\n",
    "$\n",
    "\n",
    "<img src='asset/3/3.png'>\n",
    "\n",
    "The figure given above shows the graphical representation of a discrete ramp signal."
   ]
  },
  {
   "cell_type": "markdown",
   "metadata": {},
   "source": [
    " "
   ]
  },
  {
   "cell_type": "markdown",
   "metadata": {},
   "source": [
    "# <div align=\"center\">Parabolic Function</div>\n",
    "---------------------------------------------------------------------"
   ]
  },
  {
   "cell_type": "markdown",
   "metadata": {},
   "source": [
    " "
   ]
  },
  {
   "cell_type": "markdown",
   "metadata": {},
   "source": [
    "Discrete unit parabolic function is denoted as p(n) and can be defined as:\n",
    "\n",
    "$p(n) =\n",
    "  \\begin{cases}\n",
    "    n^2 / 2       & \\quad \\text{for } n \\geq 0\\\\\n",
    "    0  & \\quad \\text{for } n < 0\n",
    "  \\end{cases}\n",
    "$\n",
    "\n",
    "In terms of unit step function it can be written as;\n",
    "\n",
    "$p(n) = n^2/2 * U(n)$\n",
    "\n",
    "<img src='asset/3/4.png'>"
   ]
  },
  {
   "cell_type": "markdown",
   "metadata": {},
   "source": [
    " "
   ]
  },
  {
   "cell_type": "markdown",
   "metadata": {},
   "source": [
    "# <div align=\"center\">Sinusoidal Signal</div>\n",
    "---------------------------------------------------------------------"
   ]
  },
  {
   "cell_type": "markdown",
   "metadata": {},
   "source": [
    " "
   ]
  },
  {
   "cell_type": "markdown",
   "metadata": {},
   "source": [
    "All continuous-time signals are periodic. The discrete-time sinusoidal sequences may or may not be periodic. They depend on the value of $\\omega$. For a discrete time signal to be periodic, the angular frequency $\\omega$ must be a rational multiple of $2\\pi$."
   ]
  },
  {
   "cell_type": "markdown",
   "metadata": {},
   "source": [
    "<img src='asset/3/5.png'>"
   ]
  },
  {
   "cell_type": "markdown",
   "metadata": {},
   "source": [
    "A discrete sinusoidal signal is shown in the figure above.\n",
    "\n",
    "Discrete form of a sinusoidal signal can be represented in the format:\n",
    "\n",
    "\n",
    "* $x(n)=Asin(ωn+ϕ)$\n",
    "\n",
    "\n",
    "Here A,ω and φ have their usual meaning and n is the integer. Time period of the discrete sinusoidal signal is given by:\n",
    "\n",
    "\n",
    "* $N = 2 \\pi m / \\omega$\n",
    "\n",
    "\n",
    "Where, N and m are integers."
   ]
  },
  {
   "cell_type": "markdown",
   "metadata": {},
   "source": [
    " "
   ]
  },
  {
   "cell_type": "markdown",
   "metadata": {},
   "source": [
    " "
   ]
  },
  {
   "cell_type": "markdown",
   "metadata": {},
   "source": [
    " "
   ]
  },
  {
   "cell_type": "markdown",
   "metadata": {},
   "source": [
    " "
   ]
  }
 ],
 "metadata": {
  "kernelspec": {
   "display_name": "Python 3",
   "language": "python",
   "name": "python3"
  },
  "language_info": {
   "codemirror_mode": {
    "name": "ipython",
    "version": 3
   },
   "file_extension": ".py",
   "mimetype": "text/x-python",
   "name": "python",
   "nbconvert_exporter": "python",
   "pygments_lexer": "ipython3",
   "version": "3.7.3"
  }
 },
 "nbformat": 4,
 "nbformat_minor": 2
}
