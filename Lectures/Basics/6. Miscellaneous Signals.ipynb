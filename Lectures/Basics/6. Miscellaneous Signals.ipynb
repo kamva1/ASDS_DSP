{
 "cells": [
  {
   "cell_type": "markdown",
   "metadata": {},
   "source": [
    "# <div align=\"center\">Miscellaneous Signals</div>\n",
    "---------------------------------------------------------------------\n",
    "\n",
    "you can Find me on Github:\n",
    "> ###### [ GitHub](https://github.com/lev1khachatryan)"
   ]
  },
  {
   "cell_type": "markdown",
   "metadata": {},
   "source": [
    " "
   ]
  },
  {
   "cell_type": "markdown",
   "metadata": {},
   "source": [
    "There are other signals, which are a result of operation performed on them. Some common type of signals are discussed below."
   ]
  },
  {
   "cell_type": "markdown",
   "metadata": {},
   "source": [
    " "
   ]
  },
  {
   "cell_type": "markdown",
   "metadata": {},
   "source": [
    "# <div align=\"center\">Conjugate Signals</div>\n",
    "---------------------------------------------------------------------"
   ]
  },
  {
   "cell_type": "markdown",
   "metadata": {},
   "source": [
    " "
   ]
  },
  {
   "cell_type": "markdown",
   "metadata": {},
   "source": [
    "Signals, which satisfies the condition $x(t)=x∗(−t)$ are called conjugate signals.\n",
    "\n",
    "Let $x(t)=a(t)+jb(t)$ ...eqn. 1\n",
    "\n",
    "So, $x(−t)=a(−t)+jb(−t)$\n",
    "\n",
    "And $x∗(−t)=a(−t)−jb(−t)$ ...eqn. 2\n",
    "\n",
    "By Condition, $x(t)=x∗(−t)$\n",
    "\n",
    "***If we compare both the derived equations 1 and 2, we can see that the real part is even, whereas the imaginary part is odd. This is the condition for a signal to be a conjugate type.***"
   ]
  },
  {
   "cell_type": "markdown",
   "metadata": {},
   "source": [
    " "
   ]
  },
  {
   "cell_type": "markdown",
   "metadata": {},
   "source": [
    "# <div align=\"center\">Conjugate Anti-Symmetric Signals</div>\n",
    "---------------------------------------------------------------------"
   ]
  },
  {
   "cell_type": "markdown",
   "metadata": {},
   "source": [
    " "
   ]
  },
  {
   "cell_type": "markdown",
   "metadata": {},
   "source": [
    "Signals, which satisfy the condition $x(t)=−x∗(−t)$ are called conjugate anti-symmetric signal\n",
    "\n",
    "Let $x(t)=a(t)+jb(t)$ ...eqn. 1\n",
    "\n",
    "So $x(−t)=a(−t)+jb(−t)$\n",
    "\n",
    "And $x∗(−t)=a(−t)−jb(−t)$\n",
    "\n",
    "$−x∗(−t)=−a(−t)+jb(−t)$ ...eqn. 2\n",
    "\n",
    "By Condition $x(t)=−x∗(−t)$\n",
    "\n",
    "***Now, again compare, both the equations just as we did for conjugate signals. Here, we will find that the real part is odd and the imaginary part is even. This is the condition for a signal to become conjugate anti-symmetric type.***"
   ]
  },
  {
   "cell_type": "markdown",
   "metadata": {},
   "source": [
    " "
   ]
  },
  {
   "cell_type": "markdown",
   "metadata": {},
   "source": [
    "# <div align=\"center\">Half Wave Symmetric Signals</div>\n",
    "---------------------------------------------------------------------"
   ]
  },
  {
   "cell_type": "markdown",
   "metadata": {},
   "source": [
    " "
   ]
  },
  {
   "cell_type": "markdown",
   "metadata": {},
   "source": [
    "When a signal satisfies the condition cx(t)=−x(t±(T02)), it is called half wave symmetric signal. Here, amplitude reversal and time shifting of the signal takes place by half time. For half wave symmetric signal, average value will be zero but this is not the case when the situation is reversed.\n",
    "\n",
    "<img src='asset/6/1.png'>\n",
    "\n",
    "Consider a signal x(t) as shown in figure A above. The first step is to time shift the signal and make it x[t−(T/2)]. So, the new signal is changed as shown in figure B. Next, we reverse the amplitude of the signal, i.e. make it −x[t−(T/2)] as shown in figure C. Since, this signal repeats itself after half-time shifting and reversal of amplitude, it is a half wave symmetric signal."
   ]
  },
  {
   "cell_type": "markdown",
   "metadata": {},
   "source": [
    " "
   ]
  },
  {
   "cell_type": "markdown",
   "metadata": {},
   "source": [
    "# <div align=\"center\">Orthogonal Signal</div>\n",
    "---------------------------------------------------------------------"
   ]
  },
  {
   "cell_type": "markdown",
   "metadata": {},
   "source": [
    " "
   ]
  },
  {
   "cell_type": "markdown",
   "metadata": {},
   "source": [
    "<img src='asset/6/2.png'>"
   ]
  },
  {
   "cell_type": "markdown",
   "metadata": {},
   "source": [
    " "
   ]
  },
  {
   "cell_type": "markdown",
   "metadata": {},
   "source": [
    " "
   ]
  },
  {
   "cell_type": "markdown",
   "metadata": {},
   "source": [
    " "
   ]
  },
  {
   "cell_type": "markdown",
   "metadata": {},
   "source": [
    " "
   ]
  }
 ],
 "metadata": {
  "kernelspec": {
   "display_name": "Python 3",
   "language": "python",
   "name": "python3"
  },
  "language_info": {
   "codemirror_mode": {
    "name": "ipython",
    "version": 3
   },
   "file_extension": ".py",
   "mimetype": "text/x-python",
   "name": "python",
   "nbconvert_exporter": "python",
   "pygments_lexer": "ipython3",
   "version": "3.7.3"
  }
 },
 "nbformat": 4,
 "nbformat_minor": 2
}
