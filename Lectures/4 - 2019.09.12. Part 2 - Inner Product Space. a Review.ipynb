{
 "cells": [
  {
   "cell_type": "markdown",
   "metadata": {},
   "source": [
    "# <div align=\"center\">Inner Product Space. a Review</div>\n",
    "---------------------------------------------------------------------\n",
    "\n",
    "you can Find me on Github:\n",
    "> ###### [ GitHub](https://github.com/lev1khachatryan)"
   ]
  },
  {
   "cell_type": "markdown",
   "metadata": {},
   "source": [
    " "
   ]
  },
  {
   "cell_type": "markdown",
   "metadata": {},
   "source": [
    " "
   ]
  },
  {
   "cell_type": "markdown",
   "metadata": {},
   "source": [
    "In linear algebra, an inner product space is a vector space with an additional structure called an ***inner product***. This additional structure associates each pair of vectors in the space with a scalar quantity known as the inner product of the vectors. Inner products allow the rigorous introduction of intuitive geometrical notions such as the length of a vector or the angle between two vectors. They also provide the means of defining orthogonality between vectors (zero inner product). Inner product spaces generalize Euclidean spaces (in which the inner product is the dot product, also known as the scalar product) to vector spaces of any (possibly infinite) dimension, and are studied in functional analysis. The first usage of the concept of a vector space with an inner product is due to Giuseppe Peano, in 1898."
   ]
  },
  {
   "cell_type": "markdown",
   "metadata": {},
   "source": [
    "An inner product naturally induces an associated norm, thus an ***inner product space is also a normed vector space***. A ***complete space with an inner product is called a Hilbert space***. An (incomplete) space with an inner product is called a pre-Hilbert space, since its completion with respect to the norm induced by the inner product is a Hilbert space. Inner product spaces over the field of complex numbers are sometimes referred to as ***unitary spaces***."
   ]
  },
  {
   "cell_type": "markdown",
   "metadata": {},
   "source": [
    " "
   ]
  },
  {
   "cell_type": "markdown",
   "metadata": {},
   "source": [
    " "
   ]
  },
  {
   "cell_type": "markdown",
   "metadata": {},
   "source": [
    "## Definition"
   ]
  },
  {
   "cell_type": "markdown",
   "metadata": {},
   "source": [
    " "
   ]
  },
  {
   "cell_type": "markdown",
   "metadata": {},
   "source": [
    "In this notebook, the field of scalars denoted F is either the field of real numbers R or the field of complex numbers C. Formally, an ***inner product space is a vector space V over the field F together with an inner product, i.e., with a map***\n",
    "\n",
    "$\\langle \\cdot ,\\cdot \\rangle :V\\times V\\to F$\n",
    "\n",
    "that satisfies the following three properties for all vectors $x, y, z \\in V$ and all scalars $a \\in F$\n",
    "\n",
    "* Conjugate symmetry:\n",
    "    \n",
    "    ${\\displaystyle \\langle x,y\\rangle ={\\overline {\\langle y,x\\rangle }}}$\n",
    "\n",
    "\n",
    "* Linearity in the first argument:\n",
    "\n",
    "    ${\\displaystyle {\\begin{aligned}\\langle ax,y\\rangle &=a\\langle x,y\\rangle \\\\\\langle x+y,z\\rangle &=\\langle x,z\\rangle +\\langle y,z\\rangle \\end{aligned}}}$\n",
    "\n",
    "\n",
    "* Positive-definite:\n",
    "\n",
    "    ${\\displaystyle \\langle x,x\\rangle >0,\\quad x\\in V\\setminus \\{\\mathbf {0} \\}.}$"
   ]
  },
  {
   "cell_type": "markdown",
   "metadata": {},
   "source": [
    " "
   ]
  },
  {
   "cell_type": "markdown",
   "metadata": {},
   "source": [
    " "
   ]
  },
  {
   "cell_type": "markdown",
   "metadata": {},
   "source": [
    "## Elementary properties"
   ]
  },
  {
   "cell_type": "markdown",
   "metadata": {},
   "source": [
    " "
   ]
  },
  {
   "cell_type": "markdown",
   "metadata": {},
   "source": [
    "Positive-definiteness and linearity, respectively, ensure that:\n",
    "\n",
    "${\\displaystyle {\\begin{aligned}\\langle x,x\\rangle &=0\\Rightarrow x=\\mathbf {0} \\\\\\langle \\mathbf {0} ,\\mathbf {0} \\rangle &=\\langle 0x,0x\\rangle =0\\langle x,0x\\rangle =0\\end{aligned}}}$\n",
    "\n",
    "Notice that conjugate symmetry implies that ⟨x, x⟩ is real for all x, since we have:\n",
    "\n",
    "${\\displaystyle \\langle x,x\\rangle ={\\overline {\\langle x,x\\rangle }}\\,.}$\n",
    "\n",
    "Conjugate symmetry and linearity in the first variable imply\n",
    "\n",
    "${\\displaystyle {\\begin{aligned}\\langle x,ay\\rangle &={\\overline {\\langle ay,x\\rangle }}={\\overline {a}}{\\overline {\\langle y,x\\rangle }}={\\overline {a}}\\langle x,y\\rangle \\\\\\langle x,y+z\\rangle &={\\overline {\\langle y+z,x\\rangle }}={\\overline {\\langle y,x\\rangle }}+{\\overline {\\langle z,x\\rangle }}=\\langle x,y\\rangle +\\langle x,z\\rangle \\,;\\end{aligned}}}$\n",
    "\n",
    "that is, conjugate linearity in the second argument. So, an inner product is a sesquilinear form. Conjugate symmetry is also called ***Hermitian symmetry***, and a conjugate-symmetric sesquilinear form is called a ***Hermitian form***. While the above axioms are more mathematically economical, a compact verbal definition of an inner product is a positive-definite Hermitian form.\n",
    "\n",
    "This important generalization of the familiar square expansion follows:\n",
    "\n",
    "${\\displaystyle \\langle x+y,x+y\\rangle =\\langle x,x\\rangle +\\langle x,y\\rangle +\\langle y,x\\rangle +\\langle y,y\\rangle \\,.}$\n",
    "\n",
    "These properties, constituents of the above linearity in the first and second argument:\n",
    "\n",
    "${\\displaystyle {\\begin{aligned}\\langle x+y,z\\rangle &=\\langle x,z\\rangle +\\langle y,z\\rangle \\,,\\\\\\langle x,y+z\\rangle &=\\langle x,y\\rangle +\\langle x,z\\rangle \\end{aligned}}}$\n",
    "\n",
    "In the case of F = R, conjugate-symmetry reduces to symmetry, and sesquilinearity reduces to bilinearity. So, an inner product on a real vector space is a positive-definite symmetric bilinear form. That is,\n",
    "\n",
    "${\\displaystyle {\\begin{aligned}\\langle x,y\\rangle &=\\langle y,x\\rangle \\\\\\Rightarrow \\langle -x,x\\rangle &=\\langle x,-x\\rangle \\,,\\end{aligned}}}$\n",
    "\n",
    "and the binomial expansion becomes:\n",
    "\n",
    "${\\displaystyle \\langle x+y,x+y\\rangle =\\langle x,x\\rangle +2\\langle x,y\\rangle +\\langle y,y\\rangle \\,.}$\n",
    "\n"
   ]
  },
  {
   "cell_type": "markdown",
   "metadata": {},
   "source": [
    " "
   ]
  },
  {
   "cell_type": "markdown",
   "metadata": {},
   "source": [
    " "
   ]
  },
  {
   "cell_type": "markdown",
   "metadata": {},
   "source": [
    "## "
   ]
  },
  {
   "cell_type": "markdown",
   "metadata": {},
   "source": []
  },
  {
   "cell_type": "markdown",
   "metadata": {},
   "source": []
  },
  {
   "cell_type": "markdown",
   "metadata": {},
   "source": []
  },
  {
   "cell_type": "markdown",
   "metadata": {},
   "source": []
  },
  {
   "cell_type": "markdown",
   "metadata": {},
   "source": []
  },
  {
   "cell_type": "markdown",
   "metadata": {},
   "source": []
  },
  {
   "cell_type": "markdown",
   "metadata": {},
   "source": []
  },
  {
   "cell_type": "markdown",
   "metadata": {},
   "source": []
  },
  {
   "cell_type": "markdown",
   "metadata": {},
   "source": []
  },
  {
   "cell_type": "markdown",
   "metadata": {},
   "source": []
  },
  {
   "cell_type": "markdown",
   "metadata": {},
   "source": []
  },
  {
   "cell_type": "markdown",
   "metadata": {},
   "source": []
  },
  {
   "cell_type": "markdown",
   "metadata": {},
   "source": []
  },
  {
   "cell_type": "markdown",
   "metadata": {},
   "source": []
  },
  {
   "cell_type": "markdown",
   "metadata": {},
   "source": []
  }
 ],
 "metadata": {
  "kernelspec": {
   "display_name": "Python 3",
   "language": "python",
   "name": "python3"
  },
  "language_info": {
   "codemirror_mode": {
    "name": "ipython",
    "version": 3
   },
   "file_extension": ".py",
   "mimetype": "text/x-python",
   "name": "python",
   "nbconvert_exporter": "python",
   "pygments_lexer": "ipython3",
   "version": "3.7.3"
  }
 },
 "nbformat": 4,
 "nbformat_minor": 2
}
