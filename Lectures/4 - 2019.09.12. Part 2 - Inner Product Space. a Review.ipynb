{
 "cells": [
  {
   "cell_type": "markdown",
   "metadata": {},
   "source": [
    "# <div align=\"center\">Inner Product Space. a Review</div>\n",
    "---------------------------------------------------------------------\n",
    "\n",
    "you can Find me on Github:\n",
    "> ###### [ GitHub](https://github.com/lev1khachatryan)"
   ]
  },
  {
   "cell_type": "markdown",
   "metadata": {},
   "source": [
    " "
   ]
  },
  {
   "cell_type": "markdown",
   "metadata": {},
   "source": [
    " "
   ]
  },
  {
   "cell_type": "markdown",
   "metadata": {},
   "source": [
    "In linear algebra, an inner product space is a vector space with an additional structure called an ***inner product***. This additional structure associates each pair of vectors in the space with a scalar quantity known as the inner product of the vectors. Inner products allow the rigorous introduction of intuitive geometrical notions such as the length of a vector or the angle between two vectors. They also provide the means of defining orthogonality between vectors (zero inner product). Inner product spaces generalize Euclidean spaces (in which the inner product is the dot product, also known as the scalar product) to vector spaces of any (possibly infinite) dimension, and are studied in functional analysis. The first usage of the concept of a vector space with an inner product is due to Giuseppe Peano, in 1898."
   ]
  },
  {
   "cell_type": "markdown",
   "metadata": {},
   "source": [
    "An inner product naturally induces an associated norm, thus an ***inner product space is also a normed vector space***. A ***complete space with an inner product is called a Hilbert space***. An (incomplete) space with an inner product is called a pre-Hilbert space, since its completion with respect to the norm induced by the inner product is a Hilbert space. Inner product spaces over the field of complex numbers are sometimes referred to as ***unitary spaces***."
   ]
  },
  {
   "cell_type": "markdown",
   "metadata": {},
   "source": [
    " "
   ]
  },
  {
   "cell_type": "markdown",
   "metadata": {},
   "source": [
    " "
   ]
  },
  {
   "cell_type": "markdown",
   "metadata": {},
   "source": [
    "## Definition"
   ]
  },
  {
   "cell_type": "markdown",
   "metadata": {},
   "source": [
    " "
   ]
  },
  {
   "cell_type": "markdown",
   "metadata": {},
   "source": [
    "In this notebook, the field of scalars denoted F is either the field of real numbers R or the field of complex numbers C. Formally, an ***inner product space is a vector space V over the field F together with an inner product, i.e., with a map***\n",
    "\n",
    "$\\langle \\cdot ,\\cdot \\rangle :V\\times V\\to F$\n",
    "\n",
    "that satisfies the following three properties for all vectors $x, y, z \\in V$ and all scalars $a \\in F$\n",
    "\n",
    "* Conjugate symmetry:\n",
    "    \n",
    "    ${\\displaystyle \\langle x,y\\rangle ={\\overline {\\langle y,x\\rangle }}}$\n",
    "\n",
    "\n",
    "* Linearity in the first argument:\n",
    "\n",
    "    ${\\displaystyle {\\begin{aligned}\\langle ax,y\\rangle &=a\\langle x,y\\rangle \\\\\\langle x+y,z\\rangle &=\\langle x,z\\rangle +\\langle y,z\\rangle \\end{aligned}}}$\n",
    "\n",
    "\n",
    "* Positive-definite:\n",
    "\n",
    "    ${\\displaystyle \\langle x,x\\rangle >0,\\quad x\\in V\\setminus \\{\\mathbf {0} \\}.}$"
   ]
  },
  {
   "cell_type": "markdown",
   "metadata": {},
   "source": [
    " "
   ]
  },
  {
   "cell_type": "markdown",
   "metadata": {},
   "source": [
    " "
   ]
  },
  {
   "cell_type": "markdown",
   "metadata": {},
   "source": [
    "## Elementary properties"
   ]
  },
  {
   "cell_type": "markdown",
   "metadata": {},
   "source": [
    " "
   ]
  },
  {
   "cell_type": "markdown",
   "metadata": {},
   "source": [
    "Positive-definiteness and linearity, respectively, ensure that:\n",
    "\n",
    "${\\displaystyle {\\begin{aligned}\\langle x,x\\rangle &=0\\Rightarrow x=\\mathbf {0} \\\\\\langle \\mathbf {0} ,\\mathbf {0} \\rangle &=\\langle 0x,0x\\rangle =0\\langle x,0x\\rangle =0\\end{aligned}}}$\n",
    "\n",
    "Notice that conjugate symmetry implies that ⟨x, x⟩ is real for all x, since we have:\n",
    "\n",
    "${\\displaystyle \\langle x,x\\rangle ={\\overline {\\langle x,x\\rangle }}\\,.}$\n",
    "\n",
    "Conjugate symmetry and linearity in the first variable imply\n",
    "\n",
    "${\\displaystyle {\\begin{aligned}\\langle x,ay\\rangle &={\\overline {\\langle ay,x\\rangle }}={\\overline {a}}{\\overline {\\langle y,x\\rangle }}={\\overline {a}}\\langle x,y\\rangle \\\\\\langle x,y+z\\rangle &={\\overline {\\langle y+z,x\\rangle }}={\\overline {\\langle y,x\\rangle }}+{\\overline {\\langle z,x\\rangle }}=\\langle x,y\\rangle +\\langle x,z\\rangle \\,;\\end{aligned}}}$\n",
    "\n",
    "that is, conjugate linearity in the second argument. So, an inner product is a sesquilinear form. Conjugate symmetry is also called ***Hermitian symmetry***, and a conjugate-symmetric sesquilinear form is called a ***Hermitian form***. While the above axioms are more mathematically economical, a compact verbal definition of an inner product is a positive-definite Hermitian form.\n",
    "\n",
    "This important generalization of the familiar square expansion follows:\n",
    "\n",
    "${\\displaystyle \\langle x+y,x+y\\rangle =\\langle x,x\\rangle +\\langle x,y\\rangle +\\langle y,x\\rangle +\\langle y,y\\rangle \\,.}$\n",
    "\n",
    "These properties, constituents of the above linearity in the first and second argument:\n",
    "\n",
    "${\\displaystyle {\\begin{aligned}\\langle x+y,z\\rangle &=\\langle x,z\\rangle +\\langle y,z\\rangle \\,,\\\\\\langle x,y+z\\rangle &=\\langle x,y\\rangle +\\langle x,z\\rangle \\end{aligned}}}$\n",
    "\n",
    "In the case of F = R, conjugate-symmetry reduces to symmetry, and sesquilinearity reduces to bilinearity. So, an inner product on a real vector space is a positive-definite symmetric bilinear form. That is,\n",
    "\n",
    "${\\displaystyle {\\begin{aligned}\\langle x,y\\rangle &=\\langle y,x\\rangle \\\\\\Rightarrow \\langle -x,x\\rangle &=\\langle x,-x\\rangle \\,,\\end{aligned}}}$\n",
    "\n",
    "and the binomial expansion becomes:\n",
    "\n",
    "${\\displaystyle \\langle x+y,x+y\\rangle =\\langle x,x\\rangle +2\\langle x,y\\rangle +\\langle y,y\\rangle \\,.}$\n",
    "\n"
   ]
  },
  {
   "cell_type": "markdown",
   "metadata": {},
   "source": [
    " "
   ]
  },
  {
   "cell_type": "markdown",
   "metadata": {},
   "source": [
    " "
   ]
  },
  {
   "cell_type": "markdown",
   "metadata": {},
   "source": [
    "## Norms on inner product spaces"
   ]
  },
  {
   "cell_type": "markdown",
   "metadata": {},
   "source": [
    " "
   ]
  },
  {
   "cell_type": "markdown",
   "metadata": {},
   "source": [
    "A linear space with a norm such as:\n",
    "\n",
    "${\\displaystyle \\|x\\|_{p}=\\left(\\sum _{i=1}^{\\infty }\\left|\\xi _{i}\\right|^{p}\\right)^{\\frac {1}{p}}\\qquad x=\\left\\{\\xi _{i}\\right\\}\\in l^{p},\\quad p\\neq 2,}$\n",
    "\n",
    "is a normed space but not an inner product space, because this norm does not satisfy the parallelogram equality required of a norm to have an inner product associated with it. However, inner product spaces have a naturally defined norm based upon the inner product of the space itself that does satisfy the parallelogram equality:\n",
    "\n",
    "${\\displaystyle \\|x\\|={\\sqrt {\\langle x,x\\rangle }}}$\n",
    "\n",
    "This is well defined by the nonnegativity axiom of the definition of inner product space. The norm is thought of as the length of the vector x. Directly from the axioms, we can prove the following:\n",
    "\n",
    "***Cauchy–Schwarz inequality***: For x, y elements of V\n",
    "\n",
    "${\\displaystyle |\\langle x,y\\rangle |\\leq \\|x\\|\\,\\|y\\|}$\n",
    "\n",
    "with equality if and only if x and y are linearly dependent. This is one of the most important inequalities in mathematics. It is also known in the Russian mathematical literature as the ***Cauchy–Bunyakovsky–Schwarz inequality***.\n",
    "\n",
    "\n",
    "***Orthogonality***: The geometric interpretation of the inner product in terms of angle and length, motivates much of the geometric terminology we use in regard to these spaces. Indeed, an immediate consequence of the Cauchy–Schwarz inequality is that it justifies defining the angle between two non-zero vectors x and y (denoted $\\angle$ ) in the case F = R by the identity\n",
    "\n",
    "${\\displaystyle \\angle (x,y)=\\arccos {\\frac {\\langle x,y\\rangle }{\\|x\\|\\,\\|y\\|}}.}$\n",
    "\n",
    "***Homogeneity***: For x an element of V and r a scalar\n",
    "\n",
    "${\\displaystyle \\|rx\\|=\\|r\\|\\,\\|x\\|.}$\n",
    "\n",
    "The homogeneity property is completely trivial to prove.\n",
    "\n",
    "***Parseval's identity***: An induction on the Pythagorean theorem yields: if $x_{1}, …, x_{n}$ are orthogonal vectors, that is, $\\langle x_{j}, x_{k} \\rangle = 0$ for distinct indices j, k, then\n",
    "\n",
    "$\\sum _{i=1}^{n}\\|x_{i}\\|^{2}=\\left\\|\\sum _{i=1}^{n}x_{i}\\right\\|^{2}.$\n",
    "\n",
    "In view of the Cauchy-Schwarz inequality, we also note that $\\langle \\cdot, \\cdot \\rangle$ is continuous from $V x V to F$. This allows us to extend Pythagoras' theorem to infinitely many summands: suppose V is a complete inner product space. If $\\{x_{k}\\}$ are mutually orthogonal vectors in V then\n",
    "\n",
    "$\\sum _{i=1}^{\\infty }\\|x_{i}\\|^{2}=\\left\\|\\sum _{i=1}^{\\infty }x_{i}\\right\\|^{2},$\n",
    "\n",
    "provided the infinite series on the left is convergent. Completeness of the space is needed to ensure that the sequence of partial sums\n",
    "\n",
    "$S_{k}=\\sum _{i=1}^{k}x_{i}$\n",
    "\n",
    "which is easily shown to be a Cauchy sequence, is convergent.\n",
    "\n",
    "***Parallelogram law***: For x, y elements of V\n",
    "\n",
    "${\\displaystyle \\|x+y\\|^{2}+\\|x-y\\|^{2}=2\\|x\\|^{2}+2\\|y\\|^{2}}$\n",
    "\n",
    "The parallelogram law is, in fact, a necessary and sufficient condition for the existence of a inner product corresponding to a given norm. If it holds, the inner product is defined by the polarization identity:\n",
    "\n",
    "${\\displaystyle \\|x+y\\|^{2}=\\|x\\|^{2}+\\|y\\|^{2}+2\\operatorname {Re} \\langle x,y\\rangle .}$"
   ]
  },
  {
   "cell_type": "markdown",
   "metadata": {},
   "source": [
    " "
   ]
  },
  {
   "cell_type": "markdown",
   "metadata": {},
   "source": [
    " "
   ]
  },
  {
   "cell_type": "markdown",
   "metadata": {},
   "source": [
    "## Orthonormal sequences"
   ]
  },
  {
   "cell_type": "markdown",
   "metadata": {},
   "source": [
    " "
   ]
  },
  {
   "cell_type": "markdown",
   "metadata": {},
   "source": [
    "Let $V$ be a finite dimensional inner product space of dimension n. Recall that every basis of V consists of exactly n linearly independent vectors. Using the Gram–Schmidt process we may start with an arbitrary basis and transform it into an orthonormal basis. That is, into a basis in which all the elements are orthogonal and have unit norm. In symbols, a basis $\\{e_{1}, ..., e_{n}\\}$ is ***orthonormal*** if $ \\langle e_{i}, e_{j} \\rangle $ = 0 for every $i != j$ and $ \\langle ei, ei \\rangle = ||e_{i}|| = 1$ for each $i$.\n",
    "\n",
    "This definition of orthonormal basis generalizes to the case of infinite-dimensional inner product spaces in the following way. Let V be any inner product space. Then a collection\n",
    "\n",
    "${\\displaystyle E=\\left\\{e_{\\alpha }\\right\\}_{\\alpha \\in A}}$\n",
    "\n",
    "is a basis for V if the subspace of V generated by finite linear combinations of elements of E is dense in V (in the norm induced by the inner product). We say that E is an orthonormal basis for V if it is a basis and\n",
    "\n",
    "${\\displaystyle \\left\\langle e_{\\alpha },e_{\\beta }\\right\\rangle =0}$\n"
   ]
  },
  {
   "cell_type": "markdown",
   "metadata": {},
   "source": [
    " "
   ]
  },
  {
   "cell_type": "markdown",
   "metadata": {},
   "source": [
    "Using an infinite-dimensional analog of the ***Gram-Schmidt process*** one may show:\n",
    "\n",
    "***Theorem.*** Any separable inner product space V has an orthonormal basis.\n",
    "\n",
    "Using the Hausdorff maximal principle and the fact that in a complete inner product space orthogonal projection onto linear subspaces is well-defined, one may also show that\n",
    "\n",
    "***Theorem.*** Any complete inner product space V has an orthonormal basis.\n",
    "\n",
    "The two previous theorems raise the question of whether all inner product spaces have an orthonormal basis. The answer, it turns out is negative.\n",
    "\n"
   ]
  },
  {
   "cell_type": "markdown",
   "metadata": {},
   "source": [
    " "
   ]
  },
  {
   "cell_type": "markdown",
   "metadata": {},
   "source": [
    " "
   ]
  },
  {
   "cell_type": "markdown",
   "metadata": {},
   "source": [
    "***Theorem.*** Let $V$ be the inner product space $C[- \\pi, \\pi]$. Then the sequence (indexed on set of all integers) of continuous functions\n",
    "\n",
    "${\\displaystyle e_{k}(t)={\\frac {e^{ikt}}{\\sqrt {2\\pi }}}}$\n",
    "\n",
    "is an orthonormal basis of the space $C[- \\pi, \\pi]$ with the $L^2$ inner product. The mapping\n",
    "\n",
    "${\\displaystyle f\\mapsto {\\frac {1}{\\sqrt {2\\pi }}}\\left\\{\\int _{-\\pi }^{\\pi }f(t)e^{-ikt}\\,\\mathrm {d} t\\right\\}_{k\\in \\mathbb {Z} }}$\n",
    "\n",
    "is an isometric linear map with dense image.\n",
    "\n",
    "Orthogonality of the sequence $\\{e_{k}\\}_{k}$ follows immediately from the fact that if $k != j$, then\n",
    "\n",
    "${\\displaystyle \\int _{-\\pi }^{\\pi }e^{-i(j-k)t}\\,\\mathrm {d} t=0.}$\n",
    "\n",
    "Normality of the sequence is by design, that is, the coefficients are so chosen so that the norm comes out to 1. Finally the fact that the sequence has a dense algebraic span, in the inner product norm, follows from the fact that the sequence has a dense algebraic span, this time in the space of continuous periodic functions on $[-\\pi, \\pi]$ with the uniform norm. This is the content of the Weierstrass theorem on the uniform density of trigonometric polynomials."
   ]
  },
  {
   "cell_type": "markdown",
   "metadata": {},
   "source": [
    " "
   ]
  },
  {
   "cell_type": "markdown",
   "metadata": {},
   "source": [
    " "
   ]
  },
  {
   "cell_type": "markdown",
   "metadata": {},
   "source": [
    " "
   ]
  }
 ],
 "metadata": {
  "kernelspec": {
   "display_name": "Python 3",
   "language": "python",
   "name": "python3"
  },
  "language_info": {
   "codemirror_mode": {
    "name": "ipython",
    "version": 3
   },
   "file_extension": ".py",
   "mimetype": "text/x-python",
   "name": "python",
   "nbconvert_exporter": "python",
   "pygments_lexer": "ipython3",
   "version": "3.7.3"
  }
 },
 "nbformat": 4,
 "nbformat_minor": 2
}
