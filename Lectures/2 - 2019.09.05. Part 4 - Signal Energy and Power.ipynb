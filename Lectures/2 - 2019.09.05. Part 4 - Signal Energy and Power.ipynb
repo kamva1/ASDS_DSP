{
 "cells": [
  {
   "cell_type": "markdown",
   "metadata": {},
   "source": [
    "# <div align=\"center\">Signal Energy and Power</div>\n",
    "---------------------------------------------------------------------\n",
    "\n",
    "you can Find me on Github:\n",
    "> ###### [ GitHub](https://github.com/lev1khachatryan)"
   ]
  },
  {
   "cell_type": "markdown",
   "metadata": {},
   "source": [
    " "
   ]
  },
  {
   "cell_type": "markdown",
   "metadata": {},
   "source": [
    " "
   ]
  },
  {
   "cell_type": "markdown",
   "metadata": {},
   "source": [
    "# Energy and power for continuous-time signals "
   ]
  },
  {
   "cell_type": "markdown",
   "metadata": {},
   "source": [
    " "
   ]
  },
  {
   "cell_type": "markdown",
   "metadata": {},
   "source": [
    " "
   ]
  },
  {
   "cell_type": "markdown",
   "metadata": {},
   "source": [
    " "
   ]
  },
  {
   "cell_type": "markdown",
   "metadata": {},
   "source": [
    "The terms signal energy and signal power are used to characterize a signal.\n",
    "They are not actually measures of energy and power. The definition of signal\n",
    "energy and power refers to any signal $x_{t}$, including signals that take on\n",
    "complex values. "
   ]
  },
  {
   "cell_type": "markdown",
   "metadata": {},
   "source": [
    "The signal energy in the signal $x_{t}$ is\n",
    "\n",
    "<img src='assets/20190905 04/3.png'>\n",
    "\n",
    "The signal power in the signal $x_{t}$ is \n",
    "\n",
    "<img src='assets/20190905 04/4.png'>"
   ]
  },
  {
   "cell_type": "markdown",
   "metadata": {},
   "source": [
    " "
   ]
  },
  {
   "cell_type": "markdown",
   "metadata": {},
   "source": [
    "If $0 < E < ∞$ , then the signal $x_{t}$ is called an ***energy signal***. However, there are\n",
    "signals where this condition is not satisfied. For such signals we consider the\n",
    "power. If If $0 < P < ∞$ , then the signal is called a ***power signal***. Note that the power\n",
    "for an energy signal is zero (P = 0) and that the energy for a power signal is\n",
    "infinite (E = ∞). ***Some signals are neither energy nor power signals.***"
   ]
  },
  {
   "cell_type": "markdown",
   "metadata": {},
   "source": [
    " "
   ]
  },
  {
   "cell_type": "markdown",
   "metadata": {},
   "source": [
    " "
   ]
  },
  {
   "cell_type": "markdown",
   "metadata": {},
   "source": [
    "Let us consider a periodic signal $x_{t}$ with period $T_{0}$ . The signal energy in\n",
    "one period is \n",
    "\n",
    "<img src='assets/20190905 04/5.png'>\n",
    "\n",
    "and energy in n periods is \n",
    "\n",
    "<img src='assets/20190905 04/6.png'>\n",
    "\n",
    "The power of this signal over all periods is given by\n",
    "\n",
    "<img src='assets/20190905 04/7.png'>"
   ]
  },
  {
   "cell_type": "markdown",
   "metadata": {},
   "source": [
    " "
   ]
  },
  {
   "cell_type": "markdown",
   "metadata": {},
   "source": [
    "*If the signal energy over one period is larger than zero but finite, then the total\n",
    "energy is infinite and the signal power is finite. Therefore, the signal is a power\n",
    "signal.*\n",
    "\n",
    "*If the signal energy in one period is infinite, then both the power and the total\n",
    "energy are infinite. Consequently, the signal is neither an energy signal nor a\n",
    "power signal.*"
   ]
  },
  {
   "cell_type": "markdown",
   "metadata": {},
   "source": [
    " "
   ]
  },
  {
   "cell_type": "markdown",
   "metadata": {},
   "source": [
    " "
   ]
  },
  {
   "cell_type": "markdown",
   "metadata": {},
   "source": [
    "# Example 1"
   ]
  },
  {
   "cell_type": "markdown",
   "metadata": {},
   "source": [
    "Let us consider a signal \n",
    "\n",
    "<img src='assets/20190905 04/8.png'>\n",
    "\n",
    "The energy of this signal is \n",
    "\n",
    "<img src='assets/20190905 04/9.png'>\n",
    "\n",
    "The signal $x_{t}$ is an energy signal. Since E is finite the signal power P = 0."
   ]
  },
  {
   "cell_type": "markdown",
   "metadata": {},
   "source": [
    " "
   ]
  },
  {
   "cell_type": "markdown",
   "metadata": {},
   "source": [
    "# Example 2"
   ]
  },
  {
   "cell_type": "markdown",
   "metadata": {},
   "source": [
    "Let us consider a complex signal\n",
    "\n",
    "<img src='assets/20190905 04/10.png'>\n",
    "\n",
    "Signal $x_{t}$ is periodic with period T = 2π/ω; ***hence, it cannot be an energy signal***"
   ]
  },
  {
   "cell_type": "markdown",
   "metadata": {},
   "source": [
    " "
   ]
  },
  {
   "cell_type": "markdown",
   "metadata": {},
   "source": [
    "As we have already used:\n",
    "\n",
    "<img src='assets/20190905 04/7.png'>\n",
    "\n",
    "and so :\n",
    "\n",
    "<img src='assets/20190905 04/11.png'>\n",
    "\n",
    "Since P is finite, ( )tx is a power signal and its energy is infinite. "
   ]
  },
  {
   "cell_type": "markdown",
   "metadata": {},
   "source": [
    " "
   ]
  },
  {
   "cell_type": "markdown",
   "metadata": {},
   "source": [
    " "
   ]
  },
  {
   "cell_type": "markdown",
   "metadata": {},
   "source": [
    " "
   ]
  },
  {
   "cell_type": "markdown",
   "metadata": {},
   "source": [
    " "
   ]
  },
  {
   "cell_type": "markdown",
   "metadata": {},
   "source": [
    "The signal energy can be also expressed in the frequency domain, as shown below. "
   ]
  },
  {
   "cell_type": "markdown",
   "metadata": {},
   "source": [
    "<img src='assets/20190905 04/12.png'>"
   ]
  },
  {
   "cell_type": "markdown",
   "metadata": {},
   "source": [
    "where the conjugate property has been used.\n",
    "Now we reverse the order of integration "
   ]
  },
  {
   "cell_type": "markdown",
   "metadata": {},
   "source": [
    "<img src='assets/20190905 04/13.png'>"
   ]
  },
  {
   "cell_type": "markdown",
   "metadata": {},
   "source": [
    "Thus, the equation "
   ]
  },
  {
   "cell_type": "markdown",
   "metadata": {},
   "source": [
    "<img src='assets/20190905 04/14.png'>"
   ]
  },
  {
   "cell_type": "markdown",
   "metadata": {},
   "source": [
    "holds, which is known as ***Parseval’s relation.*** "
   ]
  },
  {
   "cell_type": "markdown",
   "metadata": {},
   "source": [
    " "
   ]
  },
  {
   "cell_type": "markdown",
   "metadata": {},
   "source": [
    " "
   ]
  },
  {
   "cell_type": "markdown",
   "metadata": {},
   "source": [
    " "
   ]
  },
  {
   "cell_type": "markdown",
   "metadata": {},
   "source": [
    " "
   ]
  },
  {
   "cell_type": "markdown",
   "metadata": {},
   "source": [
    " "
   ]
  },
  {
   "cell_type": "markdown",
   "metadata": {},
   "source": [
    " "
   ]
  },
  {
   "cell_type": "markdown",
   "metadata": {},
   "source": [
    "# Energy and power for discrete-time signals "
   ]
  },
  {
   "cell_type": "markdown",
   "metadata": {},
   "source": [
    " "
   ]
  },
  {
   "cell_type": "markdown",
   "metadata": {},
   "source": [
    " "
   ]
  },
  {
   "cell_type": "markdown",
   "metadata": {},
   "source": [
    "The definition of signal energy and power for discrete signals parallel similar\n",
    "definitions for continuous signals. "
   ]
  },
  {
   "cell_type": "markdown",
   "metadata": {},
   "source": [
    "***The signal energy in the discrete-time signal x(n) is*** "
   ]
  },
  {
   "cell_type": "markdown",
   "metadata": {},
   "source": [
    "<img src='assets/20190905 04/15.png'>"
   ]
  },
  {
   "cell_type": "markdown",
   "metadata": {},
   "source": [
    " "
   ]
  },
  {
   "cell_type": "markdown",
   "metadata": {},
   "source": [
    "***The signal power in the discrete-time signal x(n) is*** "
   ]
  },
  {
   "cell_type": "markdown",
   "metadata": {},
   "source": [
    "<img src='assets/20190905 04/16.png'>"
   ]
  },
  {
   "cell_type": "markdown",
   "metadata": {},
   "source": [
    " "
   ]
  },
  {
   "cell_type": "markdown",
   "metadata": {},
   "source": [
    "A discrete-time energy signal is defined as one for which ***0 < E < ∞*** and a\n",
    "discrete-time power signal is defined as one for which ***0 < P < ∞*** . ***It is possible\n",
    "for a discrete-time signal to be neither an energy signal nor a power signal.***"
   ]
  },
  {
   "cell_type": "markdown",
   "metadata": {},
   "source": [
    " "
   ]
  },
  {
   "cell_type": "markdown",
   "metadata": {},
   "source": [
    "# Example 3 "
   ]
  },
  {
   "cell_type": "markdown",
   "metadata": {},
   "source": [
    " "
   ]
  },
  {
   "cell_type": "markdown",
   "metadata": {},
   "source": [
    "Compute the signal energy and signal power for the discrete-time signal\n",
    "\n",
    "<img src='assets/20190905 04/17.png'>\n",
    "\n",
    "We apply the definition\n",
    "\n",
    "<img src='assets/20190905 04/19.png'>\n",
    "\n",
    "The expression on the right hand side is a geometric series; hence, we have \n",
    "\n",
    "<img src='assets/20190905 04/20.png'>\n",
    "\n",
    "Since 0 < E < ∞ , signal x(n) is an energy signal, consequently, P = 0. "
   ]
  },
  {
   "cell_type": "markdown",
   "metadata": {},
   "source": [
    " "
   ]
  },
  {
   "cell_type": "markdown",
   "metadata": {},
   "source": [
    " "
   ]
  },
  {
   "cell_type": "markdown",
   "metadata": {},
   "source": [
    "# Example 4"
   ]
  },
  {
   "cell_type": "markdown",
   "metadata": {},
   "source": [
    " "
   ]
  },
  {
   "cell_type": "markdown",
   "metadata": {},
   "source": [
    "Compute the signal power and signal energy for the discrete-time signal\n",
    "\n",
    "<img src='assets/20190905 04/21.png'>\n",
    "\n",
    "by definition of discrete time signal's power we obtain:\n",
    "\n",
    "<img src='assets/20190905 04/22.png'>\n",
    "\n",
    "Since 0 < P < ∞ , the signal x(n) is a power signal and its energy is infinite. "
   ]
  },
  {
   "cell_type": "markdown",
   "metadata": {},
   "source": [
    " "
   ]
  },
  {
   "cell_type": "markdown",
   "metadata": {},
   "source": [
    " "
   ]
  },
  {
   "cell_type": "markdown",
   "metadata": {},
   "source": [
    " "
   ]
  },
  {
   "cell_type": "markdown",
   "metadata": {},
   "source": [
    " "
   ]
  }
 ],
 "metadata": {
  "kernelspec": {
   "display_name": "Python 3",
   "language": "python",
   "name": "python3"
  },
  "language_info": {
   "codemirror_mode": {
    "name": "ipython",
    "version": 3
   },
   "file_extension": ".py",
   "mimetype": "text/x-python",
   "name": "python",
   "nbconvert_exporter": "python",
   "pygments_lexer": "ipython3",
   "version": "3.7.3"
  }
 },
 "nbformat": 4,
 "nbformat_minor": 2
}
