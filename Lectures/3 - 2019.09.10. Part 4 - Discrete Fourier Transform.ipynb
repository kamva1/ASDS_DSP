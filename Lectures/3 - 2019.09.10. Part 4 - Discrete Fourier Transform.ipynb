{
 "cells": [
  {
   "cell_type": "markdown",
   "metadata": {},
   "source": [
    "# <div align=\"center\">Discrete Fourier Transform</div>\n",
    "---------------------------------------------------------------------\n",
    "\n",
    "you can Find me on Github:\n",
    "> ###### [ GitHub](https://github.com/lev1khachatryan)"
   ]
  },
  {
   "cell_type": "markdown",
   "metadata": {},
   "source": [
    " "
   ]
  },
  {
   "cell_type": "markdown",
   "metadata": {},
   "source": [
    " "
   ]
  },
  {
   "cell_type": "markdown",
   "metadata": {},
   "source": [
    "We now develop a Fourier representation for finite-length signals; to do so,\n",
    "we need to find a set of oscillatory signals of length N which contain a whole\n",
    "number of periods over their support. We start by considering a family of\n",
    "finite-length sinusoidal signals (indexed by an integer k) of the form\n",
    "\n",
    "<img src='assets/20190910 04/1.png'>\n",
    "\n",
    "where all the $ω_{k}$’s are distinct frequencies which fulfill our requirements. To\n",
    "determine these frequency values, note that, in order for $w_{k}[n]$ to contain a\n",
    "whole number of periods over N samples, it must conform to\n",
    "\n",
    "<img src='assets/20190910 04/2.png'>\n",
    "\n",
    "which translates to\n",
    "\n",
    "<img src='assets/20190910 04/3.png'>\n",
    "\n",
    "The above equation has N distinct solutions which are the N roots of unity\n",
    "$e^{j 2πm/N}$, m = 0,... ,N −1; if we define the complex number\n",
    "\n",
    "<img src='assets/20190910 04/4.png'>\n",
    "\n",
    "then the family of N signals can be written as\n",
    "\n",
    "<img src='assets/20190910 04/5.png'>\n",
    "\n",
    "for each value of k = 0,... ,N −1. We can represent these N signals as a set\n",
    "of vectors $\\{w^{(k)}\\}_{k=0,...,N−1}$ in $C^N$ with\n",
    "\n",
    "<img src='assets/20190910 04/6.png'>"
   ]
  },
  {
   "cell_type": "markdown",
   "metadata": {},
   "source": [
    " "
   ]
  },
  {
   "cell_type": "markdown",
   "metadata": {},
   "source": [
    "We can verify that $\\{w^{(k)}\\}_{k=0,...,N−1}$ is a set of N orthogonal vectors and\n",
    "therefore a basis for $C^N$ ; indeed we have (noting that $(W^{−k}_{N})^{∗}$ = $W_{N}^{k}$):\n",
    "\n",
    "<img src='assets/20190910 04/7.png'>\n",
    "\n",
    "since $W_{N}^{iN}$ = 1 for all i ∈ Z. In more compact notation we can therefore state\n",
    "that\n",
    "\n",
    "<img src='assets/20190910 04/8.png'>"
   ]
  },
  {
   "cell_type": "markdown",
   "metadata": {},
   "source": [
    " "
   ]
  },
  {
   "cell_type": "markdown",
   "metadata": {},
   "source": [
    "The vectors $\\{w^{(k)}\\}_{k=0,...,N−1}$ are the Fourier basis for $C^N$ , and therefore for\n",
    "the space of length-N signals. It is immediately evident that this basis is not orthonormal, since $||w^{(k)}||^2$ , but that it could be made orthonormal\n",
    "simply by scaling the basis vectors by (1/sqrt(N) ). In signal processing practice, however, it is customary to keep the normalization factor explicit in the\n",
    "change of basis formulas; this is mostly due to computational reasons, as we\n",
    "will see later, but, for the sake of consistency with the mainstream literature,\n",
    "we will also follow this convention."
   ]
  },
  {
   "cell_type": "markdown",
   "metadata": {},
   "source": []
  },
  {
   "cell_type": "markdown",
   "metadata": {},
   "source": []
  },
  {
   "cell_type": "markdown",
   "metadata": {},
   "source": []
  },
  {
   "cell_type": "markdown",
   "metadata": {},
   "source": []
  },
  {
   "cell_type": "markdown",
   "metadata": {},
   "source": []
  },
  {
   "cell_type": "markdown",
   "metadata": {},
   "source": []
  },
  {
   "cell_type": "markdown",
   "metadata": {},
   "source": []
  },
  {
   "cell_type": "markdown",
   "metadata": {},
   "source": []
  },
  {
   "cell_type": "markdown",
   "metadata": {},
   "source": []
  },
  {
   "cell_type": "markdown",
   "metadata": {},
   "source": []
  },
  {
   "cell_type": "markdown",
   "metadata": {},
   "source": []
  },
  {
   "cell_type": "markdown",
   "metadata": {},
   "source": []
  },
  {
   "cell_type": "markdown",
   "metadata": {},
   "source": []
  },
  {
   "cell_type": "markdown",
   "metadata": {},
   "source": []
  },
  {
   "cell_type": "markdown",
   "metadata": {},
   "source": []
  },
  {
   "cell_type": "markdown",
   "metadata": {},
   "source": []
  },
  {
   "cell_type": "markdown",
   "metadata": {},
   "source": []
  },
  {
   "cell_type": "markdown",
   "metadata": {},
   "source": []
  },
  {
   "cell_type": "markdown",
   "metadata": {},
   "source": []
  },
  {
   "cell_type": "markdown",
   "metadata": {},
   "source": []
  },
  {
   "cell_type": "markdown",
   "metadata": {},
   "source": []
  },
  {
   "cell_type": "markdown",
   "metadata": {},
   "source": []
  },
  {
   "cell_type": "markdown",
   "metadata": {},
   "source": []
  }
 ],
 "metadata": {
  "kernelspec": {
   "display_name": "Python 3",
   "language": "python",
   "name": "python3"
  },
  "language_info": {
   "codemirror_mode": {
    "name": "ipython",
    "version": 3
   },
   "file_extension": ".py",
   "mimetype": "text/x-python",
   "name": "python",
   "nbconvert_exporter": "python",
   "pygments_lexer": "ipython3",
   "version": "3.7.3"
  }
 },
 "nbformat": 4,
 "nbformat_minor": 2
}
