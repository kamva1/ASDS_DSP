{
 "cells": [
  {
   "cell_type": "markdown",
   "metadata": {},
   "source": [
    "# <div align=\"center\">Examples: building periodic signals</div>\n",
    "---------------------------------------------------------------------\n",
    "\n",
    "you can Find me on Github:\n",
    "> ###### [ GitHub](https://github.com/lev1khachatryan)"
   ]
  },
  {
   "cell_type": "markdown",
   "metadata": {},
   "source": [
    " "
   ]
  },
  {
   "cell_type": "markdown",
   "metadata": {},
   "source": [
    " "
   ]
  },
  {
   "cell_type": "markdown",
   "metadata": {},
   "source": [
    "Given a discrete-time signal x[n] and an integer N > 0 we can always formally write\n",
    "\n",
    "<img src='assets/20190905 06/1.png'>\n",
    "\n"
   ]
  },
  {
   "cell_type": "markdown",
   "metadata": {},
   "source": [
    "The signal $\\tilde{y}[n]$, if it exists, is an N-periodic sequence. The periodic signal\n",
    "$\\tilde{y}[n]$ is “manufactured” by superimposing infinite copies of the original signal x[n] spaced N samples apart. We can distinguish three cases:"
   ]
  },
  {
   "cell_type": "markdown",
   "metadata": {},
   "source": [
    "* If x[n] is finite-support and N is bigger than the size of the support, then the copies in the sum do not overlap; in the limit, if N is exactly equal to the size of the support then $\\tilde{y}[n]$ corresponds to the periodic extension of x[n] considered as a finite-length signal.\n",
    "\n",
    "\n",
    "* If x[n] is finite-support and N is smaller than the size of the support then the copies in the sum do overlap; for each n, the value of $\\tilde{y}[n]$ is be the sum of at most a finite number of terms.\n",
    "\n",
    "\n",
    "* If x[n] has infinite support, then each value of $\\tilde{y}[n]$ is be the sum of an infinite number of terms. Existence of $\\tilde{y}[n]$ depends on the properties of x[n]"
   ]
  },
  {
   "cell_type": "markdown",
   "metadata": {},
   "source": [
    " "
   ]
  },
  {
   "cell_type": "markdown",
   "metadata": {},
   "source": [
    "The figures below show ***periodization*** of a simple finite-support signal (support length L = 19);\n",
    "\n",
    "* original signal (top panel) and periodized versions with \n",
    "\n",
    "* N = 35 > L, \n",
    "\n",
    "* N = 19 = L,\n",
    "\n",
    "* N = 15 < L respectively."
   ]
  },
  {
   "cell_type": "markdown",
   "metadata": {},
   "source": [
    "<img src='assets/20190905 06/2.png'>\n",
    "<img src='assets/20190905 06/3.png'>\n",
    "<img src='assets/20190905 06/4.png'>\n",
    "<img src='assets/20190905 06/5.png'>"
   ]
  },
  {
   "cell_type": "markdown",
   "metadata": {},
   "source": [
    " "
   ]
  },
  {
   "cell_type": "markdown",
   "metadata": {},
   "source": [
    "The first two cases are illustrated in Figure above. In practice, the periodization\n",
    "of short sequences is an effective method to synthesize the sound of string\n",
    "instruments such as a guitar or a piano; used in conjunction with simple\n",
    "filters, the technique is known as the ***Karplus-Strong*** algorithm.\n",
    "As an example of the last type, take for instance the signal $x[n] = α^{−n} u[n]$.\n",
    "The periodization formula leads to"
   ]
  },
  {
   "cell_type": "markdown",
   "metadata": {},
   "source": [
    "<img src='assets/20190905 06/6.png'>"
   ]
  },
  {
   "cell_type": "markdown",
   "metadata": {},
   "source": [
    "since $u[n − kN] = 0$ for k ≥ [n/N]. Now write n = mN + i with m = [n/N]\n",
    "and i = n mod N. We have"
   ]
  },
  {
   "cell_type": "markdown",
   "metadata": {},
   "source": [
    "<img src='assets/20190905 06/7.png'>"
   ]
  },
  {
   "cell_type": "markdown",
   "metadata": {},
   "source": [
    "which exists and is finite for |α|> 1; for these values of α we have"
   ]
  },
  {
   "cell_type": "markdown",
   "metadata": {},
   "source": [
    "<img src='assets/20190905 06/8.png'>"
   ]
  },
  {
   "cell_type": "markdown",
   "metadata": {},
   "source": [
    "which is indeed N-periodic. An example is shown in Figure below.\n",
    "Periodization of $x[n] = 1.1^{−n}u[n]$ with N = 40; original signal (top\n",
    "panel) and periodized version (bottom panel)."
   ]
  },
  {
   "cell_type": "markdown",
   "metadata": {},
   "source": [
    " "
   ]
  },
  {
   "cell_type": "markdown",
   "metadata": {},
   "source": [
    "<img src='assets/20190905 06/9.png'>\n",
    "<img src='assets/20190905 06/10.png'>"
   ]
  },
  {
   "cell_type": "markdown",
   "metadata": {},
   "source": []
  },
  {
   "cell_type": "markdown",
   "metadata": {},
   "source": []
  },
  {
   "cell_type": "markdown",
   "metadata": {},
   "source": []
  },
  {
   "cell_type": "markdown",
   "metadata": {},
   "source": []
  },
  {
   "cell_type": "markdown",
   "metadata": {},
   "source": []
  },
  {
   "cell_type": "markdown",
   "metadata": {},
   "source": []
  },
  {
   "cell_type": "markdown",
   "metadata": {},
   "source": []
  },
  {
   "cell_type": "markdown",
   "metadata": {},
   "source": []
  },
  {
   "cell_type": "markdown",
   "metadata": {},
   "source": []
  },
  {
   "cell_type": "markdown",
   "metadata": {},
   "source": []
  },
  {
   "cell_type": "markdown",
   "metadata": {},
   "source": []
  },
  {
   "cell_type": "markdown",
   "metadata": {},
   "source": []
  },
  {
   "cell_type": "markdown",
   "metadata": {},
   "source": []
  },
  {
   "cell_type": "markdown",
   "metadata": {},
   "source": []
  },
  {
   "cell_type": "markdown",
   "metadata": {},
   "source": []
  },
  {
   "cell_type": "markdown",
   "metadata": {},
   "source": []
  },
  {
   "cell_type": "markdown",
   "metadata": {},
   "source": []
  },
  {
   "cell_type": "markdown",
   "metadata": {},
   "source": []
  },
  {
   "cell_type": "markdown",
   "metadata": {},
   "source": []
  },
  {
   "cell_type": "markdown",
   "metadata": {},
   "source": []
  }
 ],
 "metadata": {
  "kernelspec": {
   "display_name": "Python 3",
   "language": "python",
   "name": "python3"
  },
  "language_info": {
   "codemirror_mode": {
    "name": "ipython",
    "version": 3
   },
   "file_extension": ".py",
   "mimetype": "text/x-python",
   "name": "python",
   "nbconvert_exporter": "python",
   "pygments_lexer": "ipython3",
   "version": "3.7.3"
  }
 },
 "nbformat": 4,
 "nbformat_minor": 2
}
