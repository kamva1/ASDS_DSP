{
 "cells": [
  {
   "cell_type": "markdown",
   "metadata": {},
   "source": [
    "# <div align=\"center\">Digital Frequency</div>\n",
    "---------------------------------------------------------------------\n",
    "\n",
    "you can Find me on Github:\n",
    "> ###### [ GitHub](https://github.com/lev1khachatryan)"
   ]
  },
  {
   "cell_type": "markdown",
   "metadata": {},
   "source": [
    " "
   ]
  },
  {
   "cell_type": "markdown",
   "metadata": {},
   "source": [
    " "
   ]
  },
  {
   "cell_type": "markdown",
   "metadata": {},
   "source": [
    "With respect to the oscillatory behavior captured by the complex exponential, a note on the concept of “frequency” is in order. In the ***continuous-time\n",
    "world*** (the world of textbook physics, to be clear), where time is measured in\n",
    "seconds, the ***usual unit of measure for frequency is the Hertz which is equivalent to 1/second***. In the ***discrete-time world, where the index n represents\n",
    "a dimensionless time, “digital” frequency is expressed in radians which is\n",
    "itself a dimensionless quantity. The best way to appreciate this is to consider an algorithm to generate successive samples of a discrete-time sinusoid at a digital frequency $ω_{0}$:"
   ]
  },
  {
   "cell_type": "markdown",
   "metadata": {},
   "source": [
    "For the purposes of this notebook, the frequency resolution of a digitally generated sinusoid is limited by the period of the digital sample clock $T = 1/f_{S}$, and the precision of the sinusoidal waveform amplitude is limited by the bit width of each digital sample. Let us begin our discussion by considering a digital sinusoidal waveform."
   ]
  },
  {
   "cell_type": "markdown",
   "metadata": {},
   "source": [
    "We know that a ***sine wave has unity amplitude and is repetitive every 2π radians***. As illustrated in below figure, we can draw a circle of radius 1, called the unit circle, and we can visualize a phasor of unity magnitude rotating around the unit circle at some fixed angular rate $ω_{K}$. Every time the phasor makes a complete revolution around the unit circle, it has passed through 2π radians and has completed one cycle. We quantify the phasor’s rotational speed as being ωK radians per second. To get started, let us assign the label C to this phasor. Since the phasor C takes on values only at discrete instances of the sample period T, we can represent it as a function of discrete time by writing C(nT) {for n = 0, 1, 2, ...}."
   ]
  },
  {
   "cell_type": "markdown",
   "metadata": {},
   "source": [
    " "
   ]
  },
  {
   "cell_type": "markdown",
   "metadata": {},
   "source": [
    "<img src='assets/20190905 02/2.jpg'>"
   ]
  },
  {
   "cell_type": "markdown",
   "metadata": {},
   "source": [
    " "
   ]
  },
  {
   "cell_type": "markdown",
   "metadata": {},
   "source": [
    "We can use some simple trigonometry to represent the phasor C(nT) by its vertical and horizontal components, labeled A(nT) and B(nT). The magnitude of C is related to the value of its components by the Pythagorean theorem:"
   ]
  },
  {
   "cell_type": "markdown",
   "metadata": {},
   "source": [
    " "
   ]
  },
  {
   "cell_type": "markdown",
   "metadata": {},
   "source": [
    "<img src='assets/20190905 02/3.jpg'>"
   ]
  },
  {
   "cell_type": "markdown",
   "metadata": {},
   "source": [
    " "
   ]
  },
  {
   "cell_type": "markdown",
   "metadata": {},
   "source": [
    "We can see that as the phasor C rotates around the unit circle, the magnitude of the A component cyclically grows from 0 at 0 radians to +1 at π/2 radians. It then attenuates back to 0 at π radians, grows to –1 at 3π/2 radians, and finally attenuates back to a value of 0 as the phasor passes through 2π radians. Each time the phasor completes a rotation of 2π radians, the amplitude of the A component traces out a sine wave and the amplitude of the B component traces out a cosine wave."
   ]
  },
  {
   "cell_type": "markdown",
   "metadata": {},
   "source": [
    "Since we are dealing with a digital system, we know that the values of the phasor components A, B, and C, and the phasor phase angle θ, take on values only at discrete instants of time equal to the period of the sample frequency, or $T = 1/f_{S}$. Sequential sampling instants can be represented by the infinite series 1T, 2T, 3T, ···, nT, ···"
   ]
  },
  {
   "cell_type": "markdown",
   "metadata": {},
   "source": [
    "We can represent any arbitrary sampling instant as nT for 0 ≤ n ≤ ∞. Incorporating this notation into the unit circle phasor representation, we see that the only values that can be represented by the phasor C, its vertical and horizontal components A and B, and the phase angle θ are at the instants of time equal to nT. We know from trigonometry that"
   ]
  },
  {
   "cell_type": "markdown",
   "metadata": {},
   "source": [
    "<img src='assets/20190905 02/4.jpg'>\n",
    "<img src='assets/20190905 02/5.jpg'>"
   ]
  },
  {
   "cell_type": "markdown",
   "metadata": {},
   "source": [
    "We also know that since we are working on the unit circle, the magnitude of \n",
    "<img src='assets/20190905 02/6.jpg'>"
   ]
  },
  {
   "cell_type": "markdown",
   "metadata": {},
   "source": [
    "Therefore we can state that at any sampling instant nT,\n",
    "<img src='assets/20190905 02/7.jpg'>\n",
    "<img src='assets/20190905 02/8.jpg'>"
   ]
  },
  {
   "cell_type": "markdown",
   "metadata": {},
   "source": [
    " "
   ]
  },
  {
   "cell_type": "markdown",
   "metadata": {},
   "source": [
    "So far so good, but how do we quantify the discrete values taken on by the sinusoidal waveforms? Well, we can start by dividing the unit circle into N equal arc segments, illustrated by the black dots on the unit circle in Figure. Each arch segment is a portion of the unit circle scribed by the tip of the phasor C as the phase angle θ is incremented by 2π/N radians.\n",
    "\n",
    "We will take this opportunity to coin a new and highly technical term. Let us define the angle 2π/N and the arch segment it describes as a radian chunk. The angle between the adjacent black dots on the unit circle in Figure is equal to a radian chunk. The phasor C(nT) and its components A(nT) and B(nT) can only be evaluated at each black dot corresponding to each radian chunk on the unit circle. Therefore the maximum number of samples that can represent a single cycle of a digital sine wave is equal to N."
   ]
  },
  {
   "cell_type": "markdown",
   "metadata": {},
   "source": [
    " "
   ]
  },
  {
   "cell_type": "markdown",
   "metadata": {},
   "source": [
    "The fundamental frequency of the digital oscillator can be mathematically defined as:"
   ]
  },
  {
   "cell_type": "markdown",
   "metadata": {},
   "source": [
    "<img src='assets/20190905 02/10.jpg'>"
   ]
  },
  {
   "cell_type": "markdown",
   "metadata": {},
   "source": []
  },
  {
   "cell_type": "markdown",
   "metadata": {},
   "source": []
  },
  {
   "cell_type": "markdown",
   "metadata": {},
   "source": []
  },
  {
   "cell_type": "markdown",
   "metadata": {},
   "source": []
  },
  {
   "cell_type": "markdown",
   "metadata": {},
   "source": []
  }
 ],
 "metadata": {
  "kernelspec": {
   "display_name": "Python 3",
   "language": "python",
   "name": "python3"
  },
  "language_info": {
   "codemirror_mode": {
    "name": "ipython",
    "version": 3
   },
   "file_extension": ".py",
   "mimetype": "text/x-python",
   "name": "python",
   "nbconvert_exporter": "python",
   "pygments_lexer": "ipython3",
   "version": "3.7.3"
  }
 },
 "nbformat": 4,
 "nbformat_minor": 2
}
