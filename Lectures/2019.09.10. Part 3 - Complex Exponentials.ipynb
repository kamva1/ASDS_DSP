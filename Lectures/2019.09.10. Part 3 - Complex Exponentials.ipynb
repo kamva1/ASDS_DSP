{
 "cells": [
  {
   "cell_type": "markdown",
   "metadata": {},
   "source": [
    "# <div align=\"center\">Complex Exponentials</div>\n",
    "---------------------------------------------------------------------\n",
    "\n",
    "you can Find me on Github:\n",
    "> ###### [ GitHub](https://github.com/lev1khachatryan)"
   ]
  },
  {
   "cell_type": "markdown",
   "metadata": {},
   "source": [
    " "
   ]
  },
  {
   "cell_type": "markdown",
   "metadata": {},
   "source": [
    " "
   ]
  },
  {
   "cell_type": "markdown",
   "metadata": {},
   "source": [
    "The basic ingredient of all the Fourier transforms which follow, is the discrete-time complex exponential; this is a sequence of the form:\n",
    "\n",
    "<img src='assets/20190910 03/1.png'>\n",
    "\n",
    "A complex exponential represents an oscillatory behavior; ***$A ∈ R$  is the\n",
    "amplitude of the oscillation, ω is its frequency and φ is its initial phase***. Note\n",
    "that, actually, a discrete-time complex exponential sequence is not always\n",
    "a periodic sequence; it is ***periodic only if ω = 2π(M/N) for some value of\n",
    "$M,N ∈ Z$***. The power of a complex exponential is equal to the average energy\n",
    "over a period, i.e. $|A|^2$, irrespective of frequency."
   ]
  },
  {
   "cell_type": "markdown",
   "metadata": {},
   "source": [
    " \n",
    " "
   ]
  },
  {
   "cell_type": "markdown",
   "metadata": {},
   "source": [
    " "
   ]
  },
  {
   "cell_type": "markdown",
   "metadata": {},
   "source": [
    " "
   ]
  },
  {
   "cell_type": "markdown",
   "metadata": {},
   "source": [
    "# Complex Oscillations? Negative Frequencies?"
   ]
  },
  {
   "cell_type": "markdown",
   "metadata": {},
   "source": [
    " "
   ]
  },
  {
   "cell_type": "markdown",
   "metadata": {},
   "source": [
    "Fourier analysis allows us to\n",
    "decompose a physical phenomenon into oscillatory components. However,\n",
    "it may seem odd, that we have chosen to use complex oscillation for the\n",
    "analysis of real-world signals. It may seem even odder that these oscillations\n",
    "can have a negative frequency and that, as we will soon see in the context of\n",
    "the DTFT, the spectrum extends over to the negative axis.\n",
    "\n",
    "The starting point in answering these legitimate questions is to recall\n",
    "that the use of complex exponentials is essentially a matter of convenience.\n",
    "One could develop a complete theory of frequency analysis for real signals\n",
    "using only the basic trigonometric functions. You may actually have noticed\n",
    "this if you are familiar with the Fourier Series of a real function; yet the notational overhead is undoubtedly heavy since it involves two separate sets of\n",
    "coefficients for the sine and cosine basis functions, plus a distinct term for\n",
    "the zero-order coefficient. The use of complex exponentials elegantly unifies these separate series into a single complex-valued sequence. Yet, one\n",
    "may ask again, what does it mean for the spectrum of a musical sound to\n",
    "be complex? Simply put, the complex nature of the spectrum is a compact\n",
    "way of representing two concurrent pieces of information which uniquely\n",
    "define each spectral component: its frequency and its phase. These two values form a two-element vector in $R^2$ but, since $R^2$ is isomorphic to $C$, we\n",
    "use complex numbers for their mathematical convenience.\n",
    "\n",
    "With respect negative frequencies, one must first of all consider, yet\n",
    "again, a basic complex exponential sequence such as $x[n] = e^{j ωn}$. We can\n",
    "visualize its evolution over discrete-time as a series of points on the unit circle in the complex plane. At each step, the angle increases by ***ω***, defining\n",
    "a ***counterclockwise circular motion***. It is easy to see that a complex exponential sequence of frequency ***−ω*** is just the same series of points with the difference that the points move ***clockwise*** instead; this is illustrated in detail in figure below. If we decompose a ***real*** signal ***into complex*** exponentials,\n",
    "we will show that, for any given frequency value, the phases of the positive\n",
    "and negative components are always opposite in sign; as the two oscillations move in opposite directions along the unit circle, their complex part\n",
    "will always cancel out exactly, thus returning a purely real signal.\n",
    "\n",
    "<img src='assets/20190910 03/2.png'>\n",
    "\n",
    "Complex exponentials as a series of points on the unit circle; $x[n] = e^{j ω_{0}n}$ and $x[n] = e^{-j ω_{0}n}$ for $ω_{0} = π/5$."
   ]
  },
  {
   "cell_type": "markdown",
   "metadata": {},
   "source": [
    " "
   ]
  },
  {
   "cell_type": "markdown",
   "metadata": {},
   "source": [
    "The final step in developing a comfortable feeling for complex oscillations comes from the realization that, in the synthesis of discrete-time signals (and especially in the case of communication systems) it is actually\n",
    "more convenient to work with complex-valued signals, themselves.\n",
    "Although the transmitted signal of a device like an ADSL box is a real signal,\n",
    "the internal representation of the underlying sequences is complex; therefore complex oscillations become a necessity."
   ]
  },
  {
   "cell_type": "markdown",
   "metadata": {},
   "source": [
    " "
   ]
  },
  {
   "cell_type": "markdown",
   "metadata": {},
   "source": [
    " "
   ]
  },
  {
   "cell_type": "markdown",
   "metadata": {},
   "source": [
    " "
   ]
  },
  {
   "cell_type": "markdown",
   "metadata": {},
   "source": [
    " "
   ]
  },
  {
   "cell_type": "markdown",
   "metadata": {},
   "source": [
    " "
   ]
  },
  {
   "cell_type": "markdown",
   "metadata": {},
   "source": [
    " "
   ]
  },
  {
   "cell_type": "markdown",
   "metadata": {},
   "source": [
    " "
   ]
  },
  {
   "cell_type": "markdown",
   "metadata": {},
   "source": [
    " "
   ]
  },
  {
   "cell_type": "markdown",
   "metadata": {},
   "source": [
    " "
   ]
  }
 ],
 "metadata": {
  "kernelspec": {
   "display_name": "Python 3",
   "language": "python",
   "name": "python3"
  },
  "language_info": {
   "codemirror_mode": {
    "name": "ipython",
    "version": 3
   },
   "file_extension": ".py",
   "mimetype": "text/x-python",
   "name": "python",
   "nbconvert_exporter": "python",
   "pygments_lexer": "ipython3",
   "version": "3.7.3"
  }
 },
 "nbformat": 4,
 "nbformat_minor": 2
}
