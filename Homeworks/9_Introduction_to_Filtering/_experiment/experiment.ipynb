{
 "cells": [
  {
   "cell_type": "code",
   "execution_count": 2,
   "metadata": {},
   "outputs": [],
   "source": [
    "# here is the simple example of applying room impulse response to the given audio\n",
    "from os import path\n",
    "import numpy as np\n",
    "import scipy.io.wavfile as wavfile\n",
    "import scipy.signal as signal\n",
    "\n",
    "input_audio_path = 'v1.wav'\n",
    "output_audio_path = 'v1_rir.wav'\n",
    "rir_path = 'rir.wav'\n",
    "\n",
    "def rir_filter(w_data, rir_data):\n",
    "    # this function applies reverberation filter to data\n",
    "    # w_data: input data\n",
    "    # rir_data: impulse response of reverberation filter or shortly room impulse response \n",
    "    l = len(w_data)\n",
    "    max_ampl = np.max(np.abs(w_data))\n",
    "    conv_data = signal.fftconvolve(w_data, rir_data)\n",
    "    conv_data = max_ampl / np.max(np.abs(conv_data)) * conv_data # scaling output to have the same max as input\n",
    "    return conv_data\n",
    "\n",
    "def read_wav(in_path):\n",
    "    sr, data = wavfile.read(in_path)\n",
    "    data = data.astype('float')\n",
    "    return sr, data"
   ]
  },
  {
   "cell_type": "code",
   "execution_count": 4,
   "metadata": {},
   "outputs": [],
   "source": [
    "sr, audio = read_wav(input_audio_path)\n",
    "sr, rir = read_wav(rir_path)\n",
    "audio_reverb = rir_filter(audio, rir)\n",
    "wavfile.write(output_audio_path, sr, audio_reverb.astype('int16'))"
   ]
  }
 ],
 "metadata": {
  "kernelspec": {
   "display_name": "Python 3",
   "language": "python",
   "name": "python3"
  },
  "language_info": {
   "codemirror_mode": {
    "name": "ipython",
    "version": 3
   },
   "file_extension": ".py",
   "mimetype": "text/x-python",
   "name": "python",
   "nbconvert_exporter": "python",
   "pygments_lexer": "ipython3",
   "version": "3.7.3"
  }
 },
 "nbformat": 4,
 "nbformat_minor": 2
}
