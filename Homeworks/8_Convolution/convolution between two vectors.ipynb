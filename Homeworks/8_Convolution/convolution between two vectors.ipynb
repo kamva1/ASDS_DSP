{
 "cells": [
  {
   "cell_type": "code",
   "execution_count": 1,
   "metadata": {},
   "outputs": [],
   "source": [
    "import numpy as np\n",
    "import matplotlib.pyplot as plt\n",
    "from scipy import signal"
   ]
  },
  {
   "cell_type": "code",
   "execution_count": 2,
   "metadata": {},
   "outputs": [],
   "source": [
    "# def convolve(in1, in2):\n",
    "#     \"\"\"\n",
    "#     Convolve two N-dimensional arrays.\n",
    "#     Convolve `in1` and `in2`, with the output size determined by the\n",
    "#     `mode` argument.\n",
    "#     Parameters\n",
    "#     ----------\n",
    "#     in1 : array_like\n",
    "#         First input.\n",
    "#     in2 : array_like\n",
    "#         Second input. Should have the same number of dimensions as `in1`.\n",
    "#     Returns\n",
    "#     -------\n",
    "#     convolve : array\n",
    "#         An N-dimensional array containing a subset of the discrete linear\n",
    "#         convolution of `in1` with `in2`.\n",
    "#     \"\"\"\n",
    "#     volume = np.asarray(in1)\n",
    "#     kernel = np.asarray(in2)\n",
    "\n",
    "#     if volume.ndim == kernel.ndim == 0:\n",
    "#         return volume * kernel\n",
    "#     elif volume.ndim != kernel.ndim:\n",
    "#         raise ValueError(\"volume and kernel should have the same dimensionality\")\n",
    "\n",
    "#     if volume.shape[0] < kernel.shape[0]:\n",
    "#         # Convolution is commutative; order doesn't have any effect on output\n",
    "#         volume, kernel = kernel, volume\n",
    "        \n",
    "#     kernel = kernel[::-1]\n",
    "    \n",
    "#     imgOut = np.zeros_like(volume)\n",
    "#     for col in range(volume.shape[0] - kernel.shape[0]):\n",
    "#         value = kernel * volume[col : (col + kernel.shape[0])]\n",
    "#         imgOut[col] = value.sum ()\n",
    "#     return imgOut"
   ]
  },
  {
   "cell_type": "code",
   "execution_count": 3,
   "metadata": {},
   "outputs": [],
   "source": [
    "def convolve(in1, in2):\n",
    "    \"\"\"\n",
    "    Convolve two N-dimensional arrays.\n",
    "    Convolve `in1` and `in2`, with the output size\n",
    "    Parameters\n",
    "    ----------\n",
    "    in1 : array_like\n",
    "        First input.\n",
    "    in2 : array_like\n",
    "        Second input. Should have the same number of dimensions as `in1`.\n",
    "    Returns\n",
    "    -------\n",
    "    convolve : array\n",
    "        An N-dimensional array containing a subset of the discrete linear\n",
    "        convolution of `in1` with `in2`.\n",
    "    \"\"\"\n",
    "    volume = np.asarray(in1)\n",
    "    kernel = np.asarray(in2)\n",
    "\n",
    "    if volume.ndim == kernel.ndim == 0:\n",
    "        return volume * kernel\n",
    "    elif volume.ndim != kernel.ndim:\n",
    "        raise ValueError(\"volume and kernel should have the same dimensionality\")\n",
    "        \n",
    "    if volume.shape[0] < kernel.shape[0]:\n",
    "        # Convolution is commutative; order doesn't have any effect on output\n",
    "        volume, kernel = kernel, volume\n",
    "        \n",
    "        \n",
    "    w = np.zeros(len(volume) + len(kernel) - 1)\n",
    "\n",
    "    for i in range(len(w)):\n",
    "        sum = 0\n",
    "        for j in range(len(volume)):\n",
    "            if (i - j >= 0 and i - j < len(kernel)):\n",
    "                sum += volume[j] * kernel[i - j]\n",
    "        w[i] = sum\n",
    "\n",
    "    return w"
   ]
  },
  {
   "cell_type": "markdown",
   "metadata": {},
   "source": [
    " \n"
   ]
  },
  {
   "cell_type": "markdown",
   "metadata": {},
   "source": [
    " "
   ]
  },
  {
   "cell_type": "code",
   "execution_count": 4,
   "metadata": {},
   "outputs": [],
   "source": [
    "sig = np.repeat([0., 1., 0.], 100)\n",
    "win = signal.hann(50)\n",
    "filtered = convolve(sig, win) / sum(win)"
   ]
  },
  {
   "cell_type": "code",
   "execution_count": 5,
   "metadata": {
    "scrolled": true
   },
   "outputs": [
    {
     "name": "stderr",
     "output_type": "stream",
     "text": [
      "C:\\ProgramData\\Anaconda3\\lib\\site-packages\\matplotlib\\figure.py:445: UserWarning: Matplotlib is currently using module://ipykernel.pylab.backend_inline, which is a non-GUI backend, so cannot show the figure.\n",
      "  % get_backend())\n"
     ]
    },
    {
     "data": {
      "image/png": "[encoded data removed]",
      "text/plain": [
       "<Figure size 432x288 with 3 Axes>"
      ]
     },
     "metadata": {
      "needs_background": "light"
     },
     "output_type": "display_data"
    }
   ],
   "source": [
    "fig, (ax_orig, ax_win, ax_filt) = plt.subplots(3, 1, sharex=True)\n",
    "ax_orig.plot(sig)\n",
    "ax_orig.set_title('Original pulse')\n",
    "ax_orig.margins(0, 0.1)\n",
    "ax_win.plot(win)\n",
    "ax_win.set_title('Filter impulse response')\n",
    "ax_win.margins(0, 0.1)\n",
    "ax_filt.plot(filtered)\n",
    "ax_filt.set_title('Filtered signal')\n",
    "ax_filt.margins(0, 0.1)\n",
    "fig.tight_layout()\n",
    "fig.show()"
   ]
  },
  {
   "cell_type": "markdown",
   "metadata": {},
   "source": [
    " "
   ]
  },
  {
   "cell_type": "markdown",
   "metadata": {},
   "source": [
    " "
   ]
  },
  {
   "cell_type": "code",
   "execution_count": 6,
   "metadata": {},
   "outputs": [],
   "source": [
    "sig = np.repeat([0., 1., 0.], 100)\n",
    "win = signal.hann(50)\n",
    "filtered = signal.convolve(sig, win, mode='full') / sum(win)"
   ]
  },
  {
   "cell_type": "code",
   "execution_count": 7,
   "metadata": {
    "scrolled": true
   },
   "outputs": [
    {
     "data": {
      "image/png": "[encoded data removed]",
      "text/plain": [
       "<Figure size 432x288 with 3 Axes>"
      ]
     },
     "metadata": {
      "needs_background": "light"
     },
     "output_type": "display_data"
    }
   ],
   "source": [
    "fig, (ax_orig, ax_win, ax_filt) = plt.subplots(3, 1, sharex=True)\n",
    "ax_orig.plot(sig)\n",
    "ax_orig.set_title('Original pulse')\n",
    "ax_orig.margins(0, 0.1)\n",
    "ax_win.plot(win)\n",
    "ax_win.set_title('Filter impulse response')\n",
    "ax_win.margins(0, 0.1)\n",
    "ax_filt.plot(filtered)\n",
    "ax_filt.set_title('Filtered signal')\n",
    "ax_filt.margins(0, 0.1)\n",
    "fig.tight_layout()\n",
    "fig.show()"
   ]
  },
  {
   "cell_type": "code",
   "execution_count": 8,
   "metadata": {},
   "outputs": [],
   "source": [
    "# print(len(sig))\n",
    "# print(sig)"
   ]
  },
  {
   "cell_type": "code",
   "execution_count": 9,
   "metadata": {},
   "outputs": [],
   "source": [
    "# print(len(win))\n",
    "# print(win)"
   ]
  },
  {
   "cell_type": "code",
   "execution_count": 10,
   "metadata": {},
   "outputs": [],
   "source": [
    "# print(len(filtered))\n",
    "# print(filtered)"
   ]
  },
  {
   "cell_type": "code",
   "execution_count": null,
   "metadata": {},
   "outputs": [],
   "source": []
  }
 ],
 "metadata": {
  "kernelspec": {
   "display_name": "Python 3",
   "language": "python",
   "name": "python3"
  },
  "language_info": {
   "codemirror_mode": {
    "name": "ipython",
    "version": 3
   },
   "file_extension": ".py",
   "mimetype": "text/x-python",
   "name": "python",
   "nbconvert_exporter": "python",
   "pygments_lexer": "ipython3",
   "version": "3.7.3"
  }
 },
 "nbformat": 4,
 "nbformat_minor": 2
}
