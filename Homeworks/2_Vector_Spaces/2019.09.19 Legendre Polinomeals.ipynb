{
 "cells": [
  {
   "cell_type": "markdown",
   "metadata": {},
   "source": [
    "A compact expression for the Legendre polynomials is given by ***Rodrigues'*** formula:\n",
    "\n",
    "${\\displaystyle P_{n}(x)={\\frac {1}{2^{n}n!}}{\\frac {d^{n}}{dx^{n}}}(x^{2}-1)^{n}\\,.}$\n",
    "\n",
    "This formula enables derivation of a large number of properties of the ${\\displaystyle P_{n}}$'s. Among these are explicit representations such as\n",
    "\n",
    "${\\displaystyle {\\begin{aligned}P_{n}(x)&={\\frac {1}{2^{n}}}\\sum _{k=0}^{n}{\\binom {n}{k}}^{2}(x-1)^{n-k}(x+1)^{k},\\\\P_{n}(x)&=\\sum _{k=0}^{n}{\\binom {n}{k}}{\\binom {n+k}{k}}\\left({\\frac {x-1}{2}}\\right)^{k},\\\\P_{n}(x)&={\\frac {1}{2^{n}}}\\sum _{k=0}^{[{\\frac {n}{2}}]}(-1)^{k}{\\binom {n}{k}}{\\binom {2n-2k}{n}}x^{n-2k},\\end{aligned}}}$\n",
    "\n",
    "The last formula is equivalent to the following:\n",
    "\n",
    "<img src='assets/1.png'>\n",
    "\n",
    "We will use the last one for python implementation"
   ]
  },
  {
   "cell_type": "markdown",
   "metadata": {},
   "source": [
    " "
   ]
  },
  {
   "cell_type": "markdown",
   "metadata": {},
   "source": [
    " "
   ]
  },
  {
   "cell_type": "code",
   "execution_count": 1,
   "metadata": {},
   "outputs": [],
   "source": [
    "import numpy as np"
   ]
  },
  {
   "cell_type": "code",
   "execution_count": 2,
   "metadata": {},
   "outputs": [],
   "source": [
    "def factorial(n):\n",
    "    \"\"\"\n",
    "    Function to return the factorial of a number\n",
    "    \n",
    "    Parameters:\n",
    "        n (int) - the number which factorial we want to calculate\n",
    "        \n",
    "    Returns:\n",
    "        int - factorial\n",
    "    \"\"\"\n",
    "    if n < 0:\n",
    "        print('Factorial does not exist for negative numbers')\n",
    "        return None\n",
    "    elif n == 0:\n",
    "        return 1\n",
    "    \n",
    "    if n == 1:\n",
    "        return n\n",
    "    else:\n",
    "        return n*factorial(n-1)"
   ]
  },
  {
   "cell_type": "code",
   "execution_count": 3,
   "metadata": {},
   "outputs": [],
   "source": [
    "def legendre_polynomials(n):\n",
    "    \"\"\"\n",
    "    Function takes n as argument and implements Legendre n-th polynomial.\n",
    "    \n",
    "    Parameters:\n",
    "        n (non-negative int) - for n-th legendre polinomeal\n",
    "        \n",
    "    Returns:\n",
    "        list(coefficients of legendre polinomeal)\n",
    "        \n",
    "    Print:\n",
    "        Print obtained legendre polinomeal\n",
    "    \"\"\"\n",
    "    polynom = np.zeros([n+1])\n",
    "    \n",
    "    for k in range(int(n/2)+1):\n",
    "        coef = (1/(2**n)) * ((-1)**k) * factorial(2*n - 2*k) / (factorial(k)*factorial(n-k)*factorial(n-2*k))\n",
    "        polynom[n-2*k] = coef\n",
    "        \n",
    "    polynom_str = ''\n",
    "    for i in range(len(polynom)):\n",
    "        if polynom[i] != 0 and i == 0:\n",
    "            polynom_str += str(polynom[i])\n",
    "        \n",
    "        elif polynom[i] != 0 and i == 1:\n",
    "            if polynom[i] > 0 and polynom_str != \"\":\n",
    "                polynom_str += (' +' + str(polynom[i]) + ' *X')\n",
    "            else:\n",
    "                polynom_str += (' ' + str(polynom[i]) + ' *X')\n",
    "        \n",
    "        elif polynom[i] != 0 and i != 0:\n",
    "            if polynom[i] > 0 and polynom_str != \"\":\n",
    "                polynom_str += (' +' + str(polynom[i]) + ' *X^' + str(i))\n",
    "            else:\n",
    "                polynom_str += (' ' + str(polynom[i]) + ' *X^' + str(i))\n",
    "                \n",
    "    print(polynom_str)\n",
    "    \n",
    "    return polynom"
   ]
  },
  {
   "cell_type": "code",
   "execution_count": 4,
   "metadata": {
    "scrolled": false
   },
   "outputs": [
    {
     "name": "stdout",
     "output_type": "stream",
     "text": [
      "1.0\n"
     ]
    },
    {
     "data": {
      "text/plain": [
       "array([1.])"
      ]
     },
     "execution_count": 4,
     "metadata": {},
     "output_type": "execute_result"
    }
   ],
   "source": [
    "legendre_polynomials(0)"
   ]
  },
  {
   "cell_type": "code",
   "execution_count": 5,
   "metadata": {
    "scrolled": true
   },
   "outputs": [
    {
     "name": "stdout",
     "output_type": "stream",
     "text": [
      " 1.0 *X\n"
     ]
    },
    {
     "data": {
      "text/plain": [
       "array([0., 1.])"
      ]
     },
     "execution_count": 5,
     "metadata": {},
     "output_type": "execute_result"
    }
   ],
   "source": [
    "legendre_polynomials(1)"
   ]
  },
  {
   "cell_type": "code",
   "execution_count": 6,
   "metadata": {},
   "outputs": [
    {
     "name": "stdout",
     "output_type": "stream",
     "text": [
      "-0.5 +1.5 *X^2\n"
     ]
    },
    {
     "data": {
      "text/plain": [
       "array([-0.5,  0. ,  1.5])"
      ]
     },
     "execution_count": 6,
     "metadata": {},
     "output_type": "execute_result"
    }
   ],
   "source": [
    "legendre_polynomials(2)"
   ]
  },
  {
   "cell_type": "code",
   "execution_count": 7,
   "metadata": {},
   "outputs": [
    {
     "name": "stdout",
     "output_type": "stream",
     "text": [
      " -1.5 *X +2.5 *X^3\n"
     ]
    },
    {
     "data": {
      "text/plain": [
       "array([ 0. , -1.5,  0. ,  2.5])"
      ]
     },
     "execution_count": 7,
     "metadata": {},
     "output_type": "execute_result"
    }
   ],
   "source": [
    "legendre_polynomials(3)"
   ]
  },
  {
   "cell_type": "code",
   "execution_count": 8,
   "metadata": {},
   "outputs": [
    {
     "name": "stdout",
     "output_type": "stream",
     "text": [
      "0.375 -3.75 *X^2 +4.375 *X^4\n"
     ]
    },
    {
     "data": {
      "text/plain": [
       "array([ 0.375,  0.   , -3.75 ,  0.   ,  4.375])"
      ]
     },
     "execution_count": 8,
     "metadata": {},
     "output_type": "execute_result"
    }
   ],
   "source": [
    "legendre_polynomials(4)"
   ]
  },
  {
   "cell_type": "code",
   "execution_count": 9,
   "metadata": {},
   "outputs": [
    {
     "name": "stdout",
     "output_type": "stream",
     "text": [
      " 1.875 *X -8.75 *X^3 +7.875 *X^5\n"
     ]
    },
    {
     "data": {
      "text/plain": [
       "array([ 0.   ,  1.875,  0.   , -8.75 ,  0.   ,  7.875])"
      ]
     },
     "execution_count": 9,
     "metadata": {},
     "output_type": "execute_result"
    }
   ],
   "source": [
    "legendre_polynomials(5)"
   ]
  },
  {
   "cell_type": "code",
   "execution_count": 10,
   "metadata": {},
   "outputs": [
    {
     "name": "stdout",
     "output_type": "stream",
     "text": [
      "-0.11227517265921705 +143.15084514050173 *X^2 -30347.979169786366 *X^4 +2559346.243318651 *X^6 -114622149.61148526 *X^8 +3155929852.6362276 *X^10 -58336885154.79088 *X^12 +767354412420.7107 *X^14 -7481705521101.931 *X^16 +55697141101536.59 *X^18 -323629704084717.9 *X^20 +1492059025325647.2 *X^22 -5524943202473955.0 *X^24 +1.6574829607421866e+16 *X^26 -4.051625015147567e+16 *X^28 +8.093935949800542e+16 *X^30 -1.3217919595440402e+17 *X^32 +1.7600331439917968e+17 *X^34 -1.899718314149876e+17 *X^36 +1.6457019250601344e+17 *X^38 -1.1266728563873227e+17 *X^40 +5.953962249201299e+16 *X^42 -2.3413043939776776e+16 *X^44 +6447070070373315.0 *X^46 -1108804604301793.6 *X^48 +89609514959900.05 *X^50\n"
     ]
    },
    {
     "data": {
      "text/plain": [
       "array([-1.12275173e-01,  0.00000000e+00,  1.43150845e+02,  0.00000000e+00,\n",
       "       -3.03479792e+04,  0.00000000e+00,  2.55934624e+06,  0.00000000e+00,\n",
       "       -1.14622150e+08,  0.00000000e+00,  3.15592985e+09,  0.00000000e+00,\n",
       "       -5.83368852e+10,  0.00000000e+00,  7.67354412e+11,  0.00000000e+00,\n",
       "       -7.48170552e+12,  0.00000000e+00,  5.56971411e+13,  0.00000000e+00,\n",
       "       -3.23629704e+14,  0.00000000e+00,  1.49205903e+15,  0.00000000e+00,\n",
       "       -5.52494320e+15,  0.00000000e+00,  1.65748296e+16,  0.00000000e+00,\n",
       "       -4.05162502e+16,  0.00000000e+00,  8.09393595e+16,  0.00000000e+00,\n",
       "       -1.32179196e+17,  0.00000000e+00,  1.76003314e+17,  0.00000000e+00,\n",
       "       -1.89971831e+17,  0.00000000e+00,  1.64570193e+17,  0.00000000e+00,\n",
       "       -1.12667286e+17,  0.00000000e+00,  5.95396225e+16,  0.00000000e+00,\n",
       "       -2.34130439e+16,  0.00000000e+00,  6.44707007e+15,  0.00000000e+00,\n",
       "       -1.10880460e+15,  0.00000000e+00,  8.96095150e+13])"
      ]
     },
     "execution_count": 10,
     "metadata": {},
     "output_type": "execute_result"
    }
   ],
   "source": [
    "legendre_polynomials(50)"
   ]
  },
  {
   "cell_type": "code",
   "execution_count": null,
   "metadata": {},
   "outputs": [],
   "source": []
  },
  {
   "cell_type": "code",
   "execution_count": null,
   "metadata": {},
   "outputs": [],
   "source": []
  },
  {
   "cell_type": "code",
   "execution_count": null,
   "metadata": {},
   "outputs": [],
   "source": []
  }
 ],
 "metadata": {
  "kernelspec": {
   "display_name": "Python 3",
   "language": "python",
   "name": "python3"
  },
  "language_info": {
   "codemirror_mode": {
    "name": "ipython",
    "version": 3
   },
   "file_extension": ".py",
   "mimetype": "text/x-python",
   "name": "python",
   "nbconvert_exporter": "python",
   "pygments_lexer": "ipython3",
   "version": "3.7.3"
  }
 },
 "nbformat": 4,
 "nbformat_minor": 2
}
