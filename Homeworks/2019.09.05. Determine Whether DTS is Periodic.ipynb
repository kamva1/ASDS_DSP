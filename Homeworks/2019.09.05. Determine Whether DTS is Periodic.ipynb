{
 "cells": [
  {
   "cell_type": "markdown",
   "metadata": {},
   "source": [
    "# <div align=\"center\">Examples: determine whether following DTS's are periodic</div>\n",
    "---------------------------------------------------------------------\n",
    "\n",
    "you can Find me on Github:\n",
    "> ###### [ GitHub](https://github.com/lev1khachatryan)"
   ]
  },
  {
   "cell_type": "markdown",
   "metadata": {},
   "source": [
    " "
   ]
  },
  {
   "cell_type": "markdown",
   "metadata": {},
   "source": [
    " "
   ]
  },
  {
   "cell_type": "markdown",
   "metadata": {},
   "source": [
    "# Example 1"
   ]
  },
  {
   "cell_type": "markdown",
   "metadata": {},
   "source": [
    "For a discrete complex exponential $x[n]=e^{j\\omega_1 n}$ to be periodic with period $N$, it has to satisfy:\n",
    "\n",
    "<img src='assets/2019.09.05/8.png'>\n",
    "\n",
    "that is, $\\omega_1 N$ has to be a multiple of $2\\pi$:\n",
    "\n",
    "<img src='assets/2019.09.05/9.png'>\n",
    "\n",
    "As $k$ is an integer, $\\omega_1/2\\pi$ has to be a rational number (a ratio of two integers). In order for the period\n",
    "\n",
    "<img src='assets/2019.09.05/10.png'>\n",
    "\n",
    "to be the fundamental period, $k$ has to be the smallest integer that makes $N$ an integer, and the fundamental angular frequency is\n",
    "\n",
    "<img src='assets/2019.09.05/11.png'>\n",
    "\n",
    "The original signal can now be written as:\n",
    "\n",
    "<img src='assets/2019.09.05/12.png'>\n"
   ]
  },
  {
   "cell_type": "markdown",
   "metadata": {},
   "source": [
    " "
   ]
  },
  {
   "cell_type": "markdown",
   "metadata": {},
   "source": [
    " "
   ]
  },
  {
   "cell_type": "markdown",
   "metadata": {},
   "source": [
    " "
   ]
  },
  {
   "cell_type": "markdown",
   "metadata": {},
   "source": [
    "# Example 2"
   ]
  },
  {
   "cell_type": "markdown",
   "metadata": {},
   "source": [
    "Show that a discrete signal:\n",
    "\n",
    "<img src='assets/2019.09.05/13.png'>\n",
    "\n",
    "has fundamental period\n",
    "\n",
    "<img src='assets/2019.09.05/14.png'>\n",
    "\n",
    "According to the discussion above, the fundamental period $N_0$ should satisfy\n",
    "\n",
    "<img src='assets/2019.09.05/15.png'>\n",
    "\n",
    "We see that for $N_0$ to be an integer, $l\\stackrel{\\triangle}{=}m/k$ has to divide $N$. But since $k=m/l$ is an integer, $l$ also has to divide $m$. Moreover, since $k$ needs to be the smallest integer satisfying the above equation, $l=m/k$ has to be the greatest common divisor of both $N$ and $m$, i.e., $l=gcd(N,m)$, and the fundamental period can be written as\n",
    "\n",
    "<img src='assets/2019.09.05/16.png'>\n",
    "\n"
   ]
  },
  {
   "cell_type": "markdown",
   "metadata": {},
   "source": [
    " "
   ]
  },
  {
   "cell_type": "markdown",
   "metadata": {},
   "source": [
    " "
   ]
  },
  {
   "cell_type": "markdown",
   "metadata": {},
   "source": [
    " "
   ]
  },
  {
   "cell_type": "markdown",
   "metadata": {},
   "source": [
    "# Example 3"
   ]
  },
  {
   "cell_type": "markdown",
   "metadata": {},
   "source": [
    "Find the fundamental period of the following discrete signal:\n",
    "\n",
    "<img src='assets/2019.09.05/17.png'>\n",
    "\n",
    "We first find the fundamental period for each of the two components.\n",
    "\n",
    "* Assume the period of the first term is $N_1$, then it should satisfy\n",
    "\n",
    "<img src='assets/2019.09.05/18.png'>\n",
    "\n",
    "where $k$ is an integer. Equating the exponents, we have\n",
    "\n",
    "<img src='assets/2019.09.05/19.png'>\n",
    "\n",
    "which can be solved to get $N_1=3k$. We find the smallest integer $k=1$ for $N_1=3$ to be an integer, the fundamental period.\n",
    "\n",
    "* Assume the period of the second term is $N_2$, then it should satisfy\n",
    "\n",
    "<img src='assets/2019.09.05/20.png'>\n",
    "\n",
    "where $k$ is an integer. Equating the exponents, we have\n",
    "\n",
    "<img src='assets/2019.09.05/21.png'>\n",
    "\n",
    "which can be solved to get $N_2=8k/3$. We find the smallest integer $k=3$ for $N_2=8$ to be an integer, the fundamental period. Now the second term can be written as\n",
    "\n",
    "<img src='assets/2019.09.05/22.png'>\n",
    "\n",
    "Given the fundamental periods $N_1=3$ and $N_2=8$ of the two terms, the fundamental period $N_0$ of their sum is easily found to be their least common multiple\n",
    "\n",
    "<img src='assets/2019.09.05/23.png'>\n",
    "\n",
    "and the fundamental frequency is\n",
    "\n",
    "<img src='assets/2019.09.05/24.png'>\n",
    "\n",
    "Now the original signal can be written as\n",
    "\n",
    "<img src='assets/2019.09.05/25.png'>\n",
    "\n",
    "i.e., the two terms are the 8th and 9th harmonic of the fundamental frequency $\\omega_0=\\pi/12$.\n",
    "\n",
    "Similar to the continuous case, to find the fundamental frequecy of a signal containing multiple terms all expressed as a fraction multiplied by $\\pi$, we can rewrite these fractions in terms of the least common multiple of all the denominators."
   ]
  },
  {
   "cell_type": "markdown",
   "metadata": {},
   "source": [
    " "
   ]
  },
  {
   "cell_type": "markdown",
   "metadata": {},
   "source": [
    " "
   ]
  },
  {
   "cell_type": "markdown",
   "metadata": {},
   "source": [
    " "
   ]
  },
  {
   "cell_type": "markdown",
   "metadata": {},
   "source": [
    " "
   ]
  },
  {
   "cell_type": "markdown",
   "metadata": {},
   "source": [
    "# Example 4"
   ]
  },
  {
   "cell_type": "markdown",
   "metadata": {},
   "source": [
    " "
   ]
  },
  {
   "cell_type": "markdown",
   "metadata": {},
   "source": [
    "<img src='assets/2019.09.05/26.png'>\n",
    "\n",
    "The least common multiple of the denominators is 12, therefore\n",
    "\n",
    "<img src='assets/2019.09.05/27.png'>\n",
    "\n",
    "i.e., the fundamental frequency is $\\omega_0=\\pi/12$, the fundamental period is $T=2\\pi/\\omega_0=24$ and the three terms are the 4th, 9th and 10th harmonic of $\\omega_0$, respectively."
   ]
  },
  {
   "cell_type": "markdown",
   "metadata": {},
   "source": [
    " "
   ]
  },
  {
   "cell_type": "markdown",
   "metadata": {},
   "source": [
    " "
   ]
  },
  {
   "cell_type": "markdown",
   "metadata": {},
   "source": [
    " "
   ]
  },
  {
   "cell_type": "markdown",
   "metadata": {},
   "source": [
    " "
   ]
  },
  {
   "cell_type": "markdown",
   "metadata": {},
   "source": [
    " "
   ]
  },
  {
   "cell_type": "markdown",
   "metadata": {},
   "source": [
    "# Example 5"
   ]
  },
  {
   "cell_type": "markdown",
   "metadata": {},
   "source": [
    " "
   ]
  },
  {
   "cell_type": "markdown",
   "metadata": {},
   "source": [
    " "
   ]
  },
  {
   "cell_type": "markdown",
   "metadata": {},
   "source": [
    "Consider the following DTS:\n",
    "\n",
    "<img src='assets/2019.09.05/1.png'>\n",
    "\n",
    "Comparing the signal with general expression of sinusoidal signal:\n",
    "\n",
    "<img src='assets/2019.09.05/2.png'>\n",
    "\n",
    "with\n",
    "\n",
    "<img src='assets/2019.09.05/3.png'>\n",
    "\n",
    "The signal is said to be periodic only if:\n",
    "\n",
    "<img src='assets/2019.09.05/4.png'>\n",
    "\n",
    "for some integers N > 0 and m. Here N is the fundamental period of the signal, therefore\n",
    "\n",
    "<img src='assets/2019.09.05/5.png'>\n",
    "\n",
    "subtitute the value of $\\omega_{0}$\n",
    "\n",
    "<img src='assets/2019.09.05/6.png'>\n",
    "\n",
    "Here the fundamental period N = 7, hence ***DTS is periodic with 7 period***"
   ]
  },
  {
   "cell_type": "markdown",
   "metadata": {},
   "source": []
  },
  {
   "cell_type": "markdown",
   "metadata": {},
   "source": []
  },
  {
   "cell_type": "markdown",
   "metadata": {},
   "source": []
  },
  {
   "cell_type": "markdown",
   "metadata": {},
   "source": []
  },
  {
   "cell_type": "markdown",
   "metadata": {},
   "source": []
  },
  {
   "cell_type": "markdown",
   "metadata": {},
   "source": []
  },
  {
   "cell_type": "markdown",
   "metadata": {},
   "source": []
  },
  {
   "cell_type": "markdown",
   "metadata": {},
   "source": []
  },
  {
   "cell_type": "markdown",
   "metadata": {},
   "source": []
  },
  {
   "cell_type": "markdown",
   "metadata": {},
   "source": []
  },
  {
   "cell_type": "markdown",
   "metadata": {},
   "source": []
  },
  {
   "cell_type": "markdown",
   "metadata": {},
   "source": []
  },
  {
   "cell_type": "markdown",
   "metadata": {},
   "source": []
  },
  {
   "cell_type": "markdown",
   "metadata": {},
   "source": []
  },
  {
   "cell_type": "markdown",
   "metadata": {},
   "source": []
  },
  {
   "cell_type": "markdown",
   "metadata": {},
   "source": []
  },
  {
   "cell_type": "markdown",
   "metadata": {},
   "source": []
  },
  {
   "cell_type": "markdown",
   "metadata": {},
   "source": []
  },
  {
   "cell_type": "markdown",
   "metadata": {},
   "source": []
  },
  {
   "cell_type": "markdown",
   "metadata": {},
   "source": []
  },
  {
   "cell_type": "markdown",
   "metadata": {},
   "source": []
  },
  {
   "cell_type": "markdown",
   "metadata": {},
   "source": []
  },
  {
   "cell_type": "markdown",
   "metadata": {},
   "source": []
  },
  {
   "cell_type": "markdown",
   "metadata": {},
   "source": []
  },
  {
   "cell_type": "markdown",
   "metadata": {},
   "source": []
  },
  {
   "cell_type": "markdown",
   "metadata": {},
   "source": []
  },
  {
   "cell_type": "markdown",
   "metadata": {},
   "source": []
  },
  {
   "cell_type": "markdown",
   "metadata": {},
   "source": []
  },
  {
   "cell_type": "markdown",
   "metadata": {},
   "source": []
  },
  {
   "cell_type": "markdown",
   "metadata": {},
   "source": []
  }
 ],
 "metadata": {
  "kernelspec": {
   "display_name": "Python 3",
   "language": "python",
   "name": "python3"
  },
  "language_info": {
   "codemirror_mode": {
    "name": "ipython",
    "version": 3
   },
   "file_extension": ".py",
   "mimetype": "text/x-python",
   "name": "python",
   "nbconvert_exporter": "python",
   "pygments_lexer": "ipython3",
   "version": "3.7.3"
  }
 },
 "nbformat": 4,
 "nbformat_minor": 2
}
